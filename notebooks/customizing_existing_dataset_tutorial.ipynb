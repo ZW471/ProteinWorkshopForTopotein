{
 "cells": [
  {
   "cell_type": "markdown",
   "metadata": {},
   "source": [
    "# `ProteinWorkshop` Tutorial, Part 2 - Customizing an Existing Dataset\n",
    "![Datasets](../docs/source/_static/box_datasets.png)"
   ]
  },
  {
   "cell_type": "markdown",
   "metadata": {},
   "source": [
    "## Repurpose an existing dataset within the `ProteinWorkshop`"
   ]
  },
  {
   "cell_type": "code",
   "metadata": {
    "ExecuteTime": {
     "end_time": "2025-01-26T14:30:22.799490Z",
     "start_time": "2025-01-26T14:30:22.787594Z"
    }
   },
   "source": [
    "%load_ext autoreload\n",
    "%autoreload 2\n",
    "# %load_ext blackcellmagic"
   ],
   "outputs": [],
   "execution_count": 1
  },
  {
   "cell_type": "markdown",
   "metadata": {},
   "source": [
    "Welcome back to the `ProteinWorkshop` tutorial series!\n",
    "\n",
    "To reuse existing data components available in the `ProteinWorkshop`, you can follow the following 5-step procedure:\n",
    "\n",
    "1. Use an existing dataset as either a pre-training or fine-tuning corpus, with or without full-atom context\n",
    "2. Load the requested dataset using the designed config\n",
    "3. Either pre-train or fine-tune a model using the selected dataset\n",
    "4. Reconfigure the selected dataset to use e.g., side-chain atom context\n",
    "5. Verify that e.g., side-chain torsions are now available as feature inputs"
   ]
  },
  {
   "cell_type": "markdown",
   "metadata": {},
   "source": [
    "### 1. Use an existing dataset as either a pre-training or fine-tuning corpus, with or without full-atom context\n",
    "\n",
    "One can switch out the dataset for any other available option by replacing the value of `dataset` in `overrides`:\n",
    "\n",
    "`cfg = hydra.compose(\"template\", overrides=[\"encoder=schnet\", \"task=inverse_folding\", \"dataset=cath\", \"features=ca_angles\", \"+aux_task=none\"], return_hydra_config=True)`"
   ]
  },
  {
   "cell_type": "code",
   "metadata": {
    "ExecuteTime": {
     "end_time": "2025-01-26T14:30:34.737703Z",
     "start_time": "2025-01-26T14:30:32.567830Z"
    }
   },
   "source": [
    "# Misc. tools\n",
    "import os\n",
    "\n",
    "# Hydra tools\n",
    "import hydra\n",
    "\n",
    "from hydra.compose import GlobalHydra\n",
    "from hydra.core.hydra_config import HydraConfig\n",
    "\n",
    "from proteinworkshop.constants import HYDRA_CONFIG_PATH\n",
    "from proteinworkshop.utils.notebook import init_hydra_singleton\n",
    "\n",
    "version_base = \"1.2\"  # Note: Need to update whenever Hydra is upgraded\n",
    "init_hydra_singleton(reload=True, version_base=version_base)\n",
    "\n",
    "path = HYDRA_CONFIG_PATH\n",
    "rel_path = os.path.relpath(path, start=\".\")\n",
    "\n",
    "GlobalHydra.instance().clear()\n",
    "hydra.initialize(rel_path, version_base=version_base)\n",
    "\n",
    "cfg = hydra.compose(\n",
    "    config_name=\"train\",\n",
    "    overrides=[\n",
    "        \"encoder=schnet\",\n",
    "        \"task=inverse_folding\",\n",
    "        \"dataset=cath\",\n",
    "        \"features=ca_angles\",\n",
    "        \"+aux_task=none\",\n",
    "    ],\n",
    "    return_hydra_config=True,\n",
    ")\n",
    "\n",
    "# Note: Customize as needed e.g., when running a sweep\n",
    "cfg.hydra.job.num = 0\n",
    "cfg.hydra.job.id = 0\n",
    "cfg.hydra.hydra_help.hydra_help = False\n",
    "cfg.hydra.runtime.output_dir = \"outputs\"\n",
    "\n",
    "HydraConfig.instance().set_config(cfg)"
   ],
   "outputs": [
    {
     "data": {
      "text/plain": [
       "\u001B[2;36m[01/26/25 14:30:32]\u001B[0m\u001B[2;36m \u001B[0m\u001B[34mINFO    \u001B[0m DATA_PATH: \u001B[35m/Users/dricpro/PycharmProjects/Topotein/\u001B[0m\u001B[95mdata\u001B[0m                \u001B]8;id=3174;file:///Users/dricpro/PycharmProjects/Topotein/ProteinWorkshop/proteinworkshop/constants.py\u001B\\\u001B[2mconstants.py\u001B[0m\u001B]8;;\u001B\\\u001B[2m:\u001B[0m\u001B]8;id=508808;file:///Users/dricpro/PycharmProjects/Topotein/ProteinWorkshop/proteinworkshop/constants.py#39\u001B\\\u001B[2m39\u001B[0m\u001B]8;;\u001B\\\n"
      ],
      "text/html": [
       "<pre style=\"white-space:pre;overflow-x:auto;line-height:normal;font-family:Menlo,'DejaVu Sans Mono',consolas,'Courier New',monospace\"><span style=\"color: #7fbfbf; text-decoration-color: #7fbfbf\">[01/26/25 14:30:32] </span><span style=\"color: #000080; text-decoration-color: #000080\">INFO    </span> DATA_PATH: <span style=\"color: #800080; text-decoration-color: #800080\">/Users/dricpro/PycharmProjects/Topotein/</span><span style=\"color: #ff00ff; text-decoration-color: #ff00ff\">data</span>                <a href=\"file:///Users/dricpro/PycharmProjects/Topotein/ProteinWorkshop/proteinworkshop/constants.py\" target=\"_blank\"><span style=\"color: #7f7f7f; text-decoration-color: #7f7f7f\">constants.py</span></a><span style=\"color: #7f7f7f; text-decoration-color: #7f7f7f\">:</span><a href=\"file:///Users/dricpro/PycharmProjects/Topotein/ProteinWorkshop/proteinworkshop/constants.py#39\" target=\"_blank\"><span style=\"color: #7f7f7f; text-decoration-color: #7f7f7f\">39</span></a>\n",
       "</pre>\n"
      ]
     },
     "metadata": {},
     "output_type": "display_data"
    },
    {
     "data": {
      "text/plain": [
       "\u001B[2;36m[01/26/25 14:30:34]\u001B[0m\u001B[2;36m \u001B[0m\u001B[34mINFO    \u001B[0m Hydra initialised at                                                    \u001B]8;id=469773;file:///Users/dricpro/PycharmProjects/Topotein/ProteinWorkshop/proteinworkshop/utils/notebook.py\u001B\\\u001B[2mnotebook.py\u001B[0m\u001B]8;;\u001B\\\u001B[2m:\u001B[0m\u001B]8;id=40194;file:///Users/dricpro/PycharmProjects/Topotein/ProteinWorkshop/proteinworkshop/utils/notebook.py#53\u001B\\\u001B[2m53\u001B[0m\u001B]8;;\u001B\\\n",
       "\u001B[2;36m                    \u001B[0m         \u001B[35m/Users/dricpro/PycharmProjects/Topotein/ProteinWorkshop/proteinworkshop\u001B[0m \u001B[2m              \u001B[0m\n",
       "\u001B[2;36m                    \u001B[0m         \u001B[35m/\u001B[0m\u001B[95mconfig.\u001B[0m                                                                \u001B[2m              \u001B[0m\n"
      ],
      "text/html": [
       "<pre style=\"white-space:pre;overflow-x:auto;line-height:normal;font-family:Menlo,'DejaVu Sans Mono',consolas,'Courier New',monospace\"><span style=\"color: #7fbfbf; text-decoration-color: #7fbfbf\">[01/26/25 14:30:34] </span><span style=\"color: #000080; text-decoration-color: #000080\">INFO    </span> Hydra initialised at                                                    <a href=\"file:///Users/dricpro/PycharmProjects/Topotein/ProteinWorkshop/proteinworkshop/utils/notebook.py\" target=\"_blank\"><span style=\"color: #7f7f7f; text-decoration-color: #7f7f7f\">notebook.py</span></a><span style=\"color: #7f7f7f; text-decoration-color: #7f7f7f\">:</span><a href=\"file:///Users/dricpro/PycharmProjects/Topotein/ProteinWorkshop/proteinworkshop/utils/notebook.py#53\" target=\"_blank\"><span style=\"color: #7f7f7f; text-decoration-color: #7f7f7f\">53</span></a>\n",
       "<span style=\"color: #7fbfbf; text-decoration-color: #7fbfbf\">                    </span>         <span style=\"color: #800080; text-decoration-color: #800080\">/Users/dricpro/PycharmProjects/Topotein/ProteinWorkshop/proteinworkshop</span> <span style=\"color: #7f7f7f; text-decoration-color: #7f7f7f\">              </span>\n",
       "<span style=\"color: #7fbfbf; text-decoration-color: #7fbfbf\">                    </span>         <span style=\"color: #800080; text-decoration-color: #800080\">/</span><span style=\"color: #ff00ff; text-decoration-color: #ff00ff\">config.</span>                                                                <span style=\"color: #7f7f7f; text-decoration-color: #7f7f7f\">              </span>\n",
       "</pre>\n"
      ]
     },
     "metadata": {},
     "output_type": "display_data"
    }
   ],
   "execution_count": 2
  },
  {
   "cell_type": "markdown",
   "metadata": {},
   "source": [
    "### 2. Load the requested dataset using the designed config"
   ]
  },
  {
   "cell_type": "code",
   "metadata": {
    "ExecuteTime": {
     "end_time": "2025-01-26T14:31:02.219254Z",
     "start_time": "2025-01-26T14:30:48.036754Z"
    }
   },
   "source": [
    "from proteinworkshop.configs import config\n",
    "\n",
    "cfg = config.validate_config(cfg)\n",
    "\n",
    "datamodule = hydra.utils.instantiate(cfg.dataset.datamodule)\n",
    "datamodule.setup(\"fit\")\n",
    "dl = datamodule.train_dataloader()\n",
    "\n",
    "for i in dl:\n",
    "    print(i)\n",
    "    break"
   ],
   "outputs": [
    {
     "data": {
      "text/plain": [
       "\u001B[2;36m[01/26/25 14:30:48]\u001B[0m\u001B[2;36m \u001B[0m\u001B[33mWARNING \u001B[0m You are launching an inverse folding experiment with amino_acid_one_hot  \u001B]8;id=941170;file:///Users/dricpro/PycharmProjects/Topotein/ProteinWorkshop/proteinworkshop/configs/config.py\u001B\\\u001B[2mconfig.py\u001B[0m\u001B]8;;\u001B\\\u001B[2m:\u001B[0m\u001B]8;id=589578;file:///Users/dricpro/PycharmProjects/Topotein/ProteinWorkshop/proteinworkshop/configs/config.py#114\u001B\\\u001B[2m114\u001B[0m\u001B]8;;\u001B\\\n",
       "\u001B[2;36m                    \u001B[0m         as a feature. This will be removed.                                      \u001B[2m             \u001B[0m\n"
      ],
      "text/html": [
       "<pre style=\"white-space:pre;overflow-x:auto;line-height:normal;font-family:Menlo,'DejaVu Sans Mono',consolas,'Courier New',monospace\"><span style=\"color: #7fbfbf; text-decoration-color: #7fbfbf\">[01/26/25 14:30:48] </span><span style=\"color: #808000; text-decoration-color: #808000\">WARNING </span> You are launching an inverse folding experiment with amino_acid_one_hot  <a href=\"file:///Users/dricpro/PycharmProjects/Topotein/ProteinWorkshop/proteinworkshop/configs/config.py\" target=\"_blank\"><span style=\"color: #7f7f7f; text-decoration-color: #7f7f7f\">config.py</span></a><span style=\"color: #7f7f7f; text-decoration-color: #7f7f7f\">:</span><a href=\"file:///Users/dricpro/PycharmProjects/Topotein/ProteinWorkshop/proteinworkshop/configs/config.py#114\" target=\"_blank\"><span style=\"color: #7f7f7f; text-decoration-color: #7f7f7f\">114</span></a>\n",
       "<span style=\"color: #7fbfbf; text-decoration-color: #7fbfbf\">                    </span>         as a feature. This will be removed.                                      <span style=\"color: #7f7f7f; text-decoration-color: #7f7f7f\">             </span>\n",
       "</pre>\n"
      ]
     },
     "metadata": {},
     "output_type": "display_data"
    },
    {
     "data": {
      "text/plain": [
       "\u001B[2;36m                   \u001B[0m\u001B[2;36m \u001B[0m\u001B[32mDEBUG   \u001B[0m Requested CPUs: \u001B[1;36m16\u001B[0m. Avialable CPUs \u001B[1m(\u001B[0mphysical\u001B[1m)\u001B[0m: \u001B[1;36m12\u001B[0m. Requested CPU count   \u001B]8;id=75771;file:///Users/dricpro/PycharmProjects/Topotein/ProteinWorkshop/proteinworkshop/configs/config.py\u001B\\\u001B[2mconfig.py\u001B[0m\u001B]8;;\u001B\\\u001B[2m:\u001B[0m\u001B]8;id=128841;file:///Users/dricpro/PycharmProjects/Topotein/ProteinWorkshop/proteinworkshop/configs/config.py#312\u001B\\\u001B[2m312\u001B[0m\u001B]8;;\u001B\\\n",
       "\u001B[2;36m                    \u001B[0m         will therefore be set to maximum number ofavailable physical cores.      \u001B[2m             \u001B[0m\n",
       "\u001B[2;36m                    \u001B[0m         NOTE: It is recommended to use N-1cores or less to avoid memory flush    \u001B[2m             \u001B[0m\n",
       "\u001B[2;36m                    \u001B[0m         overheads.                                                               \u001B[2m             \u001B[0m\n"
      ],
      "text/html": [
       "<pre style=\"white-space:pre;overflow-x:auto;line-height:normal;font-family:Menlo,'DejaVu Sans Mono',consolas,'Courier New',monospace\"><span style=\"color: #7fbfbf; text-decoration-color: #7fbfbf\">                    </span><span style=\"color: #008000; text-decoration-color: #008000\">DEBUG   </span> Requested CPUs: <span style=\"color: #008080; text-decoration-color: #008080; font-weight: bold\">16</span>. Avialable CPUs <span style=\"font-weight: bold\">(</span>physical<span style=\"font-weight: bold\">)</span>: <span style=\"color: #008080; text-decoration-color: #008080; font-weight: bold\">12</span>. Requested CPU count   <a href=\"file:///Users/dricpro/PycharmProjects/Topotein/ProteinWorkshop/proteinworkshop/configs/config.py\" target=\"_blank\"><span style=\"color: #7f7f7f; text-decoration-color: #7f7f7f\">config.py</span></a><span style=\"color: #7f7f7f; text-decoration-color: #7f7f7f\">:</span><a href=\"file:///Users/dricpro/PycharmProjects/Topotein/ProteinWorkshop/proteinworkshop/configs/config.py#312\" target=\"_blank\"><span style=\"color: #7f7f7f; text-decoration-color: #7f7f7f\">312</span></a>\n",
       "<span style=\"color: #7fbfbf; text-decoration-color: #7fbfbf\">                    </span>         will therefore be set to maximum number ofavailable physical cores.      <span style=\"color: #7f7f7f; text-decoration-color: #7f7f7f\">             </span>\n",
       "<span style=\"color: #7fbfbf; text-decoration-color: #7fbfbf\">                    </span>         NOTE: It is recommended to use N-1cores or less to avoid memory flush    <span style=\"color: #7f7f7f; text-decoration-color: #7f7f7f\">             </span>\n",
       "<span style=\"color: #7fbfbf; text-decoration-color: #7fbfbf\">                    </span>         overheads.                                                               <span style=\"color: #7f7f7f; text-decoration-color: #7f7f7f\">             </span>\n",
       "</pre>\n"
      ]
     },
     "metadata": {},
     "output_type": "display_data"
    },
    {
     "data": {
      "text/plain": [
       "\u001B[2;36m                   \u001B[0m\u001B[2;36m \u001B[0m\u001B[32mDEBUG   \u001B[0m CUDA available: \u001B[3;91mFalse\u001B[0m                                                    \u001B]8;id=502789;file:///Users/dricpro/PycharmProjects/Topotein/ProteinWorkshop/proteinworkshop/configs/config.py\u001B\\\u001B[2mconfig.py\u001B[0m\u001B]8;;\u001B\\\u001B[2m:\u001B[0m\u001B]8;id=150994;file:///Users/dricpro/PycharmProjects/Topotein/ProteinWorkshop/proteinworkshop/configs/config.py#247\u001B\\\u001B[2m247\u001B[0m\u001B]8;;\u001B\\\n"
      ],
      "text/html": [
       "<pre style=\"white-space:pre;overflow-x:auto;line-height:normal;font-family:Menlo,'DejaVu Sans Mono',consolas,'Courier New',monospace\"><span style=\"color: #7fbfbf; text-decoration-color: #7fbfbf\">                    </span><span style=\"color: #008000; text-decoration-color: #008000\">DEBUG   </span> CUDA available: <span style=\"color: #ff0000; text-decoration-color: #ff0000; font-style: italic\">False</span>                                                    <a href=\"file:///Users/dricpro/PycharmProjects/Topotein/ProteinWorkshop/proteinworkshop/configs/config.py\" target=\"_blank\"><span style=\"color: #7f7f7f; text-decoration-color: #7f7f7f\">config.py</span></a><span style=\"color: #7f7f7f; text-decoration-color: #7f7f7f\">:</span><a href=\"file:///Users/dricpro/PycharmProjects/Topotein/ProteinWorkshop/proteinworkshop/configs/config.py#247\" target=\"_blank\"><span style=\"color: #7f7f7f; text-decoration-color: #7f7f7f\">247</span></a>\n",
       "</pre>\n"
      ]
     },
     "metadata": {},
     "output_type": "display_data"
    },
    {
     "data": {
      "text/plain": [
       "\u001B[2;36m                   \u001B[0m\u001B[2;36m \u001B[0m\u001B[32mDEBUG   \u001B[0m Requested GPUs: \u001B[1;36m1\u001B[0m.                                                       \u001B]8;id=281107;file:///Users/dricpro/PycharmProjects/Topotein/ProteinWorkshop/proteinworkshop/configs/config.py\u001B\\\u001B[2mconfig.py\u001B[0m\u001B]8;;\u001B\\\u001B[2m:\u001B[0m\u001B]8;id=961864;file:///Users/dricpro/PycharmProjects/Topotein/ProteinWorkshop/proteinworkshop/configs/config.py#248\u001B\\\u001B[2m248\u001B[0m\u001B]8;;\u001B\\\n"
      ],
      "text/html": [
       "<pre style=\"white-space:pre;overflow-x:auto;line-height:normal;font-family:Menlo,'DejaVu Sans Mono',consolas,'Courier New',monospace\"><span style=\"color: #7fbfbf; text-decoration-color: #7fbfbf\">                    </span><span style=\"color: #008000; text-decoration-color: #008000\">DEBUG   </span> Requested GPUs: <span style=\"color: #008080; text-decoration-color: #008080; font-weight: bold\">1</span>.                                                       <a href=\"file:///Users/dricpro/PycharmProjects/Topotein/ProteinWorkshop/proteinworkshop/configs/config.py\" target=\"_blank\"><span style=\"color: #7f7f7f; text-decoration-color: #7f7f7f\">config.py</span></a><span style=\"color: #7f7f7f; text-decoration-color: #7f7f7f\">:</span><a href=\"file:///Users/dricpro/PycharmProjects/Topotein/ProteinWorkshop/proteinworkshop/configs/config.py#248\" target=\"_blank\"><span style=\"color: #7f7f7f; text-decoration-color: #7f7f7f\">248</span></a>\n",
       "</pre>\n"
      ]
     },
     "metadata": {},
     "output_type": "display_data"
    },
    {
     "data": {
      "text/plain": [
       "\u001B[2;36m                   \u001B[0m\u001B[2;36m \u001B[0m\u001B[32mDEBUG   \u001B[0m GPU count set to: \u001B[1;36m0\u001B[0m                                                      \u001B]8;id=928938;file:///Users/dricpro/PycharmProjects/Topotein/ProteinWorkshop/proteinworkshop/configs/config.py\u001B\\\u001B[2mconfig.py\u001B[0m\u001B]8;;\u001B\\\u001B[2m:\u001B[0m\u001B]8;id=338262;file:///Users/dricpro/PycharmProjects/Topotein/ProteinWorkshop/proteinworkshop/configs/config.py#253\u001B\\\u001B[2m253\u001B[0m\u001B]8;;\u001B\\\n"
      ],
      "text/html": [
       "<pre style=\"white-space:pre;overflow-x:auto;line-height:normal;font-family:Menlo,'DejaVu Sans Mono',consolas,'Courier New',monospace\"><span style=\"color: #7fbfbf; text-decoration-color: #7fbfbf\">                    </span><span style=\"color: #008000; text-decoration-color: #008000\">DEBUG   </span> GPU count set to: <span style=\"color: #008080; text-decoration-color: #008080; font-weight: bold\">0</span>                                                      <a href=\"file:///Users/dricpro/PycharmProjects/Topotein/ProteinWorkshop/proteinworkshop/configs/config.py\" target=\"_blank\"><span style=\"color: #7f7f7f; text-decoration-color: #7f7f7f\">config.py</span></a><span style=\"color: #7f7f7f; text-decoration-color: #7f7f7f\">:</span><a href=\"file:///Users/dricpro/PycharmProjects/Topotein/ProteinWorkshop/proteinworkshop/configs/config.py#253\" target=\"_blank\"><span style=\"color: #7f7f7f; text-decoration-color: #7f7f7f\">253</span></a>\n",
       "</pre>\n"
      ]
     },
     "metadata": {},
     "output_type": "display_data"
    },
    {
     "data": {
      "text/plain": [
       "\u001B[2;36m                   \u001B[0m\u001B[2;36m \u001B[0m\u001B[33mWARNING \u001B[0m You are not using early stopping.                                        \u001B]8;id=479354;file:///Users/dricpro/PycharmProjects/Topotein/ProteinWorkshop/proteinworkshop/configs/config.py\u001B\\\u001B[2mconfig.py\u001B[0m\u001B]8;;\u001B\\\u001B[2m:\u001B[0m\u001B]8;id=549109;file:///Users/dricpro/PycharmProjects/Topotein/ProteinWorkshop/proteinworkshop/configs/config.py#164\u001B\\\u001B[2m164\u001B[0m\u001B]8;;\u001B\\\n"
      ],
      "text/html": [
       "<pre style=\"white-space:pre;overflow-x:auto;line-height:normal;font-family:Menlo,'DejaVu Sans Mono',consolas,'Courier New',monospace\"><span style=\"color: #7fbfbf; text-decoration-color: #7fbfbf\">                    </span><span style=\"color: #808000; text-decoration-color: #808000\">WARNING </span> You are not using early stopping.                                        <a href=\"file:///Users/dricpro/PycharmProjects/Topotein/ProteinWorkshop/proteinworkshop/configs/config.py\" target=\"_blank\"><span style=\"color: #7f7f7f; text-decoration-color: #7f7f7f\">config.py</span></a><span style=\"color: #7f7f7f; text-decoration-color: #7f7f7f\">:</span><a href=\"file:///Users/dricpro/PycharmProjects/Topotein/ProteinWorkshop/proteinworkshop/configs/config.py#164\" target=\"_blank\"><span style=\"color: #7f7f7f; text-decoration-color: #7f7f7f\">164</span></a>\n",
       "</pre>\n"
      ]
     },
     "metadata": {},
     "output_type": "display_data"
    },
    {
     "name": "stderr",
     "output_type": "stream",
     "text": [
      "/opt/anaconda3/envs/Topotein/lib/python3.10/site-packages/beartype/_util/hint/pep/utilpeptest.py:311: BeartypeDecorHintPep585DeprecationWarning:\n",
      "\n",
      "PEP 484 type hint typing.Iterable[typing.Callable] deprecated by PEP 585. This hint is scheduled for removal in the first Python version released after October 5th, 2025. To resolve this, import this hint from \"beartype.typing\" rather than \"typing\". For further commentary and alternatives, see also:\n",
      "    https://beartype.readthedocs.io/en/latest/api_roar/#pep-585-deprecations\n",
      "\n"
     ]
    },
    {
     "data": {
      "text/plain": [
       "\u001B[2;36m                   \u001B[0m\u001B[2;36m \u001B[0m\u001B[34mINFO    \u001B[0m Found existing dataset index                                               \u001B]8;id=171595;file:///Users/dricpro/PycharmProjects/Topotein/ProteinWorkshop/proteinworkshop/datasets/cath.py\u001B\\\u001B[2mcath.py\u001B[0m\u001B]8;;\u001B\\\u001B[2m:\u001B[0m\u001B]8;id=527113;file:///Users/dricpro/PycharmProjects/Topotein/ProteinWorkshop/proteinworkshop/datasets/cath.py#102\u001B\\\u001B[2m102\u001B[0m\u001B]8;;\u001B\\\n"
      ],
      "text/html": [
       "<pre style=\"white-space:pre;overflow-x:auto;line-height:normal;font-family:Menlo,'DejaVu Sans Mono',consolas,'Courier New',monospace\"><span style=\"color: #7fbfbf; text-decoration-color: #7fbfbf\">                    </span><span style=\"color: #000080; text-decoration-color: #000080\">INFO    </span> Found existing dataset index                                               <a href=\"file:///Users/dricpro/PycharmProjects/Topotein/ProteinWorkshop/proteinworkshop/datasets/cath.py\" target=\"_blank\"><span style=\"color: #7f7f7f; text-decoration-color: #7f7f7f\">cath.py</span></a><span style=\"color: #7f7f7f; text-decoration-color: #7f7f7f\">:</span><a href=\"file:///Users/dricpro/PycharmProjects/Topotein/ProteinWorkshop/proteinworkshop/datasets/cath.py#102\" target=\"_blank\"><span style=\"color: #7f7f7f; text-decoration-color: #7f7f7f\">102</span></a>\n",
       "</pre>\n"
      ]
     },
     "metadata": {},
     "output_type": "display_data"
    },
    {
     "data": {
      "text/plain": [
       "\u001B[2;36m                   \u001B[0m\u001B[2;36m \u001B[0m\u001B[34mINFO    \u001B[0m Preprocessing training data                                                 \u001B]8;id=230964;file:///Users/dricpro/PycharmProjects/Topotein/ProteinWorkshop/proteinworkshop/datasets/base.py\u001B\\\u001B[2mbase.py\u001B[0m\u001B]8;;\u001B\\\u001B[2m:\u001B[0m\u001B]8;id=158634;file:///Users/dricpro/PycharmProjects/Topotein/ProteinWorkshop/proteinworkshop/datasets/base.py#87\u001B\\\u001B[2m87\u001B[0m\u001B]8;;\u001B\\\n"
      ],
      "text/html": [
       "<pre style=\"white-space:pre;overflow-x:auto;line-height:normal;font-family:Menlo,'DejaVu Sans Mono',consolas,'Courier New',monospace\"><span style=\"color: #7fbfbf; text-decoration-color: #7fbfbf\">                    </span><span style=\"color: #000080; text-decoration-color: #000080\">INFO    </span> Preprocessing training data                                                 <a href=\"file:///Users/dricpro/PycharmProjects/Topotein/ProteinWorkshop/proteinworkshop/datasets/base.py\" target=\"_blank\"><span style=\"color: #7f7f7f; text-decoration-color: #7f7f7f\">base.py</span></a><span style=\"color: #7f7f7f; text-decoration-color: #7f7f7f\">:</span><a href=\"file:///Users/dricpro/PycharmProjects/Topotein/ProteinWorkshop/proteinworkshop/datasets/base.py#87\" target=\"_blank\"><span style=\"color: #7f7f7f; text-decoration-color: #7f7f7f\">87</span></a>\n",
       "</pre>\n"
      ]
     },
     "metadata": {},
     "output_type": "display_data"
    },
    {
     "data": {
      "text/plain": [
       "\u001B[2;36m                   \u001B[0m\u001B[2;36m \u001B[0m\u001B[34mINFO    \u001B[0m Found \u001B[1;36m18024\u001B[0m chains in training set                                         \u001B]8;id=219394;file:///Users/dricpro/PycharmProjects/Topotein/ProteinWorkshop/proteinworkshop/datasets/cath.py\u001B\\\u001B[2mcath.py\u001B[0m\u001B]8;;\u001B\\\u001B[2m:\u001B[0m\u001B]8;id=867542;file:///Users/dricpro/PycharmProjects/Topotein/ProteinWorkshop/proteinworkshop/datasets/cath.py#120\u001B\\\u001B[2m120\u001B[0m\u001B]8;;\u001B\\\n"
      ],
      "text/html": [
       "<pre style=\"white-space:pre;overflow-x:auto;line-height:normal;font-family:Menlo,'DejaVu Sans Mono',consolas,'Courier New',monospace\"><span style=\"color: #7fbfbf; text-decoration-color: #7fbfbf\">                    </span><span style=\"color: #000080; text-decoration-color: #000080\">INFO    </span> Found <span style=\"color: #008080; text-decoration-color: #008080; font-weight: bold\">18024</span> chains in training set                                         <a href=\"file:///Users/dricpro/PycharmProjects/Topotein/ProteinWorkshop/proteinworkshop/datasets/cath.py\" target=\"_blank\"><span style=\"color: #7f7f7f; text-decoration-color: #7f7f7f\">cath.py</span></a><span style=\"color: #7f7f7f; text-decoration-color: #7f7f7f\">:</span><a href=\"file:///Users/dricpro/PycharmProjects/Topotein/ProteinWorkshop/proteinworkshop/datasets/cath.py#120\" target=\"_blank\"><span style=\"color: #7f7f7f; text-decoration-color: #7f7f7f\">120</span></a>\n",
       "</pre>\n"
      ]
     },
     "metadata": {},
     "output_type": "display_data"
    },
    {
     "data": {
      "text/plain": [
       "\u001B[2;36m                   \u001B[0m\u001B[2;36m \u001B[0m\u001B[34mINFO    \u001B[0m Removing obsolete PDBs from training set                                   \u001B]8;id=538876;file:///Users/dricpro/PycharmProjects/Topotein/ProteinWorkshop/proteinworkshop/datasets/cath.py\u001B\\\u001B[2mcath.py\u001B[0m\u001B]8;;\u001B\\\u001B[2m:\u001B[0m\u001B]8;id=430645;file:///Users/dricpro/PycharmProjects/Topotein/ProteinWorkshop/proteinworkshop/datasets/cath.py#121\u001B\\\u001B[2m121\u001B[0m\u001B]8;;\u001B\\\n"
      ],
      "text/html": [
       "<pre style=\"white-space:pre;overflow-x:auto;line-height:normal;font-family:Menlo,'DejaVu Sans Mono',consolas,'Courier New',monospace\"><span style=\"color: #7fbfbf; text-decoration-color: #7fbfbf\">                    </span><span style=\"color: #000080; text-decoration-color: #000080\">INFO    </span> Removing obsolete PDBs from training set                                   <a href=\"file:///Users/dricpro/PycharmProjects/Topotein/ProteinWorkshop/proteinworkshop/datasets/cath.py\" target=\"_blank\"><span style=\"color: #7f7f7f; text-decoration-color: #7f7f7f\">cath.py</span></a><span style=\"color: #7f7f7f; text-decoration-color: #7f7f7f\">:</span><a href=\"file:///Users/dricpro/PycharmProjects/Topotein/ProteinWorkshop/proteinworkshop/datasets/cath.py#121\" target=\"_blank\"><span style=\"color: #7f7f7f; text-decoration-color: #7f7f7f\">121</span></a>\n",
       "</pre>\n"
      ]
     },
     "metadata": {},
     "output_type": "display_data"
    },
    {
     "data": {
      "text/plain": [
       "\u001B[2;36m[01/26/25 14:30:49]\u001B[0m\u001B[2;36m \u001B[0m\u001B[34mINFO    \u001B[0m \u001B[1;36m18006\u001B[0m remaining training chains                                            \u001B]8;id=286313;file:///Users/dricpro/PycharmProjects/Topotein/ProteinWorkshop/proteinworkshop/datasets/cath.py\u001B\\\u001B[2mcath.py\u001B[0m\u001B]8;;\u001B\\\u001B[2m:\u001B[0m\u001B]8;id=490935;file:///Users/dricpro/PycharmProjects/Topotein/ProteinWorkshop/proteinworkshop/datasets/cath.py#127\u001B\\\u001B[2m127\u001B[0m\u001B]8;;\u001B\\\n"
      ],
      "text/html": [
       "<pre style=\"white-space:pre;overflow-x:auto;line-height:normal;font-family:Menlo,'DejaVu Sans Mono',consolas,'Courier New',monospace\"><span style=\"color: #7fbfbf; text-decoration-color: #7fbfbf\">[01/26/25 14:30:49] </span><span style=\"color: #000080; text-decoration-color: #000080\">INFO    </span> <span style=\"color: #008080; text-decoration-color: #008080; font-weight: bold\">18006</span> remaining training chains                                            <a href=\"file:///Users/dricpro/PycharmProjects/Topotein/ProteinWorkshop/proteinworkshop/datasets/cath.py\" target=\"_blank\"><span style=\"color: #7f7f7f; text-decoration-color: #7f7f7f\">cath.py</span></a><span style=\"color: #7f7f7f; text-decoration-color: #7f7f7f\">:</span><a href=\"file:///Users/dricpro/PycharmProjects/Topotein/ProteinWorkshop/proteinworkshop/datasets/cath.py#127\" target=\"_blank\"><span style=\"color: #7f7f7f; text-decoration-color: #7f7f7f\">127</span></a>\n",
       "</pre>\n"
      ]
     },
     "metadata": {},
     "output_type": "display_data"
    },
    {
     "data": {
      "text/plain": [
       "\u001B[2;36m                   \u001B[0m\u001B[2;36m \u001B[0m\u001B[34mINFO    \u001B[0m Sampling fraction \u001B[1;36m1.0\u001B[0m of training set                                      \u001B]8;id=926689;file:///Users/dricpro/PycharmProjects/Topotein/ProteinWorkshop/proteinworkshop/datasets/cath.py\u001B\\\u001B[2mcath.py\u001B[0m\u001B]8;;\u001B\\\u001B[2m:\u001B[0m\u001B]8;id=199818;file:///Users/dricpro/PycharmProjects/Topotein/ProteinWorkshop/proteinworkshop/datasets/cath.py#129\u001B\\\u001B[2m129\u001B[0m\u001B]8;;\u001B\\\n"
      ],
      "text/html": [
       "<pre style=\"white-space:pre;overflow-x:auto;line-height:normal;font-family:Menlo,'DejaVu Sans Mono',consolas,'Courier New',monospace\"><span style=\"color: #7fbfbf; text-decoration-color: #7fbfbf\">                    </span><span style=\"color: #000080; text-decoration-color: #000080\">INFO    </span> Sampling fraction <span style=\"color: #008080; text-decoration-color: #008080; font-weight: bold\">1.0</span> of training set                                      <a href=\"file:///Users/dricpro/PycharmProjects/Topotein/ProteinWorkshop/proteinworkshop/datasets/cath.py\" target=\"_blank\"><span style=\"color: #7f7f7f; text-decoration-color: #7f7f7f\">cath.py</span></a><span style=\"color: #7f7f7f; text-decoration-color: #7f7f7f\">:</span><a href=\"file:///Users/dricpro/PycharmProjects/Topotein/ProteinWorkshop/proteinworkshop/datasets/cath.py#129\" target=\"_blank\"><span style=\"color: #7f7f7f; text-decoration-color: #7f7f7f\">129</span></a>\n",
       "</pre>\n"
      ]
     },
     "metadata": {},
     "output_type": "display_data"
    },
    {
     "data": {
      "text/plain": [
       "\u001B[2;36m                   \u001B[0m\u001B[2;36m \u001B[0m\u001B[34mINFO    \u001B[0m Found \u001B[1;36m608\u001B[0m chains in validation set                                         \u001B]8;id=893467;file:///Users/dricpro/PycharmProjects/Topotein/ProteinWorkshop/proteinworkshop/datasets/cath.py\u001B\\\u001B[2mcath.py\u001B[0m\u001B]8;;\u001B\\\u001B[2m:\u001B[0m\u001B]8;id=47565;file:///Users/dricpro/PycharmProjects/Topotein/ProteinWorkshop/proteinworkshop/datasets/cath.py#136\u001B\\\u001B[2m136\u001B[0m\u001B]8;;\u001B\\\n"
      ],
      "text/html": [
       "<pre style=\"white-space:pre;overflow-x:auto;line-height:normal;font-family:Menlo,'DejaVu Sans Mono',consolas,'Courier New',monospace\"><span style=\"color: #7fbfbf; text-decoration-color: #7fbfbf\">                    </span><span style=\"color: #000080; text-decoration-color: #000080\">INFO    </span> Found <span style=\"color: #008080; text-decoration-color: #008080; font-weight: bold\">608</span> chains in validation set                                         <a href=\"file:///Users/dricpro/PycharmProjects/Topotein/ProteinWorkshop/proteinworkshop/datasets/cath.py\" target=\"_blank\"><span style=\"color: #7f7f7f; text-decoration-color: #7f7f7f\">cath.py</span></a><span style=\"color: #7f7f7f; text-decoration-color: #7f7f7f\">:</span><a href=\"file:///Users/dricpro/PycharmProjects/Topotein/ProteinWorkshop/proteinworkshop/datasets/cath.py#136\" target=\"_blank\"><span style=\"color: #7f7f7f; text-decoration-color: #7f7f7f\">136</span></a>\n",
       "</pre>\n"
      ]
     },
     "metadata": {},
     "output_type": "display_data"
    },
    {
     "data": {
      "text/plain": [
       "\u001B[2;36m                   \u001B[0m\u001B[2;36m \u001B[0m\u001B[34mINFO    \u001B[0m Removing obsolete PDBs from validation set                                 \u001B]8;id=503382;file:///Users/dricpro/PycharmProjects/Topotein/ProteinWorkshop/proteinworkshop/datasets/cath.py\u001B\\\u001B[2mcath.py\u001B[0m\u001B]8;;\u001B\\\u001B[2m:\u001B[0m\u001B]8;id=866570;file:///Users/dricpro/PycharmProjects/Topotein/ProteinWorkshop/proteinworkshop/datasets/cath.py#137\u001B\\\u001B[2m137\u001B[0m\u001B]8;;\u001B\\\n"
      ],
      "text/html": [
       "<pre style=\"white-space:pre;overflow-x:auto;line-height:normal;font-family:Menlo,'DejaVu Sans Mono',consolas,'Courier New',monospace\"><span style=\"color: #7fbfbf; text-decoration-color: #7fbfbf\">                    </span><span style=\"color: #000080; text-decoration-color: #000080\">INFO    </span> Removing obsolete PDBs from validation set                                 <a href=\"file:///Users/dricpro/PycharmProjects/Topotein/ProteinWorkshop/proteinworkshop/datasets/cath.py\" target=\"_blank\"><span style=\"color: #7f7f7f; text-decoration-color: #7f7f7f\">cath.py</span></a><span style=\"color: #7f7f7f; text-decoration-color: #7f7f7f\">:</span><a href=\"file:///Users/dricpro/PycharmProjects/Topotein/ProteinWorkshop/proteinworkshop/datasets/cath.py#137\" target=\"_blank\"><span style=\"color: #7f7f7f; text-decoration-color: #7f7f7f\">137</span></a>\n",
       "</pre>\n"
      ]
     },
     "metadata": {},
     "output_type": "display_data"
    },
    {
     "data": {
      "text/plain": [
       "\u001B[2;36m                   \u001B[0m\u001B[2;36m \u001B[0m\u001B[34mINFO    \u001B[0m \u001B[1;36m607\u001B[0m remaining validation chains                                            \u001B]8;id=918794;file:///Users/dricpro/PycharmProjects/Topotein/ProteinWorkshop/proteinworkshop/datasets/cath.py\u001B\\\u001B[2mcath.py\u001B[0m\u001B]8;;\u001B\\\u001B[2m:\u001B[0m\u001B]8;id=254478;file:///Users/dricpro/PycharmProjects/Topotein/ProteinWorkshop/proteinworkshop/datasets/cath.py#143\u001B\\\u001B[2m143\u001B[0m\u001B]8;;\u001B\\\n"
      ],
      "text/html": [
       "<pre style=\"white-space:pre;overflow-x:auto;line-height:normal;font-family:Menlo,'DejaVu Sans Mono',consolas,'Courier New',monospace\"><span style=\"color: #7fbfbf; text-decoration-color: #7fbfbf\">                    </span><span style=\"color: #000080; text-decoration-color: #000080\">INFO    </span> <span style=\"color: #008080; text-decoration-color: #008080; font-weight: bold\">607</span> remaining validation chains                                            <a href=\"file:///Users/dricpro/PycharmProjects/Topotein/ProteinWorkshop/proteinworkshop/datasets/cath.py\" target=\"_blank\"><span style=\"color: #7f7f7f; text-decoration-color: #7f7f7f\">cath.py</span></a><span style=\"color: #7f7f7f; text-decoration-color: #7f7f7f\">:</span><a href=\"file:///Users/dricpro/PycharmProjects/Topotein/ProteinWorkshop/proteinworkshop/datasets/cath.py#143\" target=\"_blank\"><span style=\"color: #7f7f7f; text-decoration-color: #7f7f7f\">143</span></a>\n",
       "</pre>\n"
      ]
     },
     "metadata": {},
     "output_type": "display_data"
    },
    {
     "data": {
      "text/plain": [
       "\u001B[2;36m                   \u001B[0m\u001B[2;36m \u001B[0m\u001B[34mINFO    \u001B[0m Found \u001B[1;36m1120\u001B[0m chains in test set                                              \u001B]8;id=351480;file:///Users/dricpro/PycharmProjects/Topotein/ProteinWorkshop/proteinworkshop/datasets/cath.py\u001B\\\u001B[2mcath.py\u001B[0m\u001B]8;;\u001B\\\u001B[2m:\u001B[0m\u001B]8;id=285049;file:///Users/dricpro/PycharmProjects/Topotein/ProteinWorkshop/proteinworkshop/datasets/cath.py#146\u001B\\\u001B[2m146\u001B[0m\u001B]8;;\u001B\\\n"
      ],
      "text/html": [
       "<pre style=\"white-space:pre;overflow-x:auto;line-height:normal;font-family:Menlo,'DejaVu Sans Mono',consolas,'Courier New',monospace\"><span style=\"color: #7fbfbf; text-decoration-color: #7fbfbf\">                    </span><span style=\"color: #000080; text-decoration-color: #000080\">INFO    </span> Found <span style=\"color: #008080; text-decoration-color: #008080; font-weight: bold\">1120</span> chains in test set                                              <a href=\"file:///Users/dricpro/PycharmProjects/Topotein/ProteinWorkshop/proteinworkshop/datasets/cath.py\" target=\"_blank\"><span style=\"color: #7f7f7f; text-decoration-color: #7f7f7f\">cath.py</span></a><span style=\"color: #7f7f7f; text-decoration-color: #7f7f7f\">:</span><a href=\"file:///Users/dricpro/PycharmProjects/Topotein/ProteinWorkshop/proteinworkshop/datasets/cath.py#146\" target=\"_blank\"><span style=\"color: #7f7f7f; text-decoration-color: #7f7f7f\">146</span></a>\n",
       "</pre>\n"
      ]
     },
     "metadata": {},
     "output_type": "display_data"
    },
    {
     "data": {
      "text/plain": [
       "\u001B[2;36m                   \u001B[0m\u001B[2;36m \u001B[0m\u001B[34mINFO    \u001B[0m Removing obsolete PDBs from test set                                       \u001B]8;id=67410;file:///Users/dricpro/PycharmProjects/Topotein/ProteinWorkshop/proteinworkshop/datasets/cath.py\u001B\\\u001B[2mcath.py\u001B[0m\u001B]8;;\u001B\\\u001B[2m:\u001B[0m\u001B]8;id=136220;file:///Users/dricpro/PycharmProjects/Topotein/ProteinWorkshop/proteinworkshop/datasets/cath.py#147\u001B\\\u001B[2m147\u001B[0m\u001B]8;;\u001B\\\n"
      ],
      "text/html": [
       "<pre style=\"white-space:pre;overflow-x:auto;line-height:normal;font-family:Menlo,'DejaVu Sans Mono',consolas,'Courier New',monospace\"><span style=\"color: #7fbfbf; text-decoration-color: #7fbfbf\">                    </span><span style=\"color: #000080; text-decoration-color: #000080\">INFO    </span> Removing obsolete PDBs from test set                                       <a href=\"file:///Users/dricpro/PycharmProjects/Topotein/ProteinWorkshop/proteinworkshop/datasets/cath.py\" target=\"_blank\"><span style=\"color: #7f7f7f; text-decoration-color: #7f7f7f\">cath.py</span></a><span style=\"color: #7f7f7f; text-decoration-color: #7f7f7f\">:</span><a href=\"file:///Users/dricpro/PycharmProjects/Topotein/ProteinWorkshop/proteinworkshop/datasets/cath.py#147\" target=\"_blank\"><span style=\"color: #7f7f7f; text-decoration-color: #7f7f7f\">147</span></a>\n",
       "</pre>\n"
      ]
     },
     "metadata": {},
     "output_type": "display_data"
    },
    {
     "data": {
      "text/plain": [
       "\u001B[2;36m                   \u001B[0m\u001B[2;36m \u001B[0m\u001B[34mINFO    \u001B[0m \u001B[1;36m1119\u001B[0m remaining test chains                                                 \u001B]8;id=2600;file:///Users/dricpro/PycharmProjects/Topotein/ProteinWorkshop/proteinworkshop/datasets/cath.py\u001B\\\u001B[2mcath.py\u001B[0m\u001B]8;;\u001B\\\u001B[2m:\u001B[0m\u001B]8;id=297592;file:///Users/dricpro/PycharmProjects/Topotein/ProteinWorkshop/proteinworkshop/datasets/cath.py#153\u001B\\\u001B[2m153\u001B[0m\u001B]8;;\u001B\\\n"
      ],
      "text/html": [
       "<pre style=\"white-space:pre;overflow-x:auto;line-height:normal;font-family:Menlo,'DejaVu Sans Mono',consolas,'Courier New',monospace\"><span style=\"color: #7fbfbf; text-decoration-color: #7fbfbf\">                    </span><span style=\"color: #000080; text-decoration-color: #000080\">INFO    </span> <span style=\"color: #008080; text-decoration-color: #008080; font-weight: bold\">1119</span> remaining test chains                                                 <a href=\"file:///Users/dricpro/PycharmProjects/Topotein/ProteinWorkshop/proteinworkshop/datasets/cath.py\" target=\"_blank\"><span style=\"color: #7f7f7f; text-decoration-color: #7f7f7f\">cath.py</span></a><span style=\"color: #7f7f7f; text-decoration-color: #7f7f7f\">:</span><a href=\"file:///Users/dricpro/PycharmProjects/Topotein/ProteinWorkshop/proteinworkshop/datasets/cath.py#153\" target=\"_blank\"><span style=\"color: #7f7f7f; text-decoration-color: #7f7f7f\">153</span></a>\n",
       "</pre>\n"
      ]
     },
     "metadata": {},
     "output_type": "display_data"
    },
    {
     "data": {
      "text/plain": [
       "\u001B[2;36m                   \u001B[0m\u001B[2;36m \u001B[0m\u001B[34mINFO    \u001B[0m All structures already processed and \u001B[33moverwrite\u001B[0m=\u001B[3;91mFalse\u001B[0m. Skipping download.   \u001B]8;id=942098;file:///Users/dricpro/PycharmProjects/Topotein/ProteinWorkshop/proteinworkshop/datasets/base.py\u001B\\\u001B[2mbase.py\u001B[0m\u001B]8;;\u001B\\\u001B[2m:\u001B[0m\u001B]8;id=396852;file:///Users/dricpro/PycharmProjects/Topotein/ProteinWorkshop/proteinworkshop/datasets/base.py#327\u001B\\\u001B[2m327\u001B[0m\u001B]8;;\u001B\\\n"
      ],
      "text/html": [
       "<pre style=\"white-space:pre;overflow-x:auto;line-height:normal;font-family:Menlo,'DejaVu Sans Mono',consolas,'Courier New',monospace\"><span style=\"color: #7fbfbf; text-decoration-color: #7fbfbf\">                    </span><span style=\"color: #000080; text-decoration-color: #000080\">INFO    </span> All structures already processed and <span style=\"color: #808000; text-decoration-color: #808000\">overwrite</span>=<span style=\"color: #ff0000; text-decoration-color: #ff0000; font-style: italic\">False</span>. Skipping download.   <a href=\"file:///Users/dricpro/PycharmProjects/Topotein/ProteinWorkshop/proteinworkshop/datasets/base.py\" target=\"_blank\"><span style=\"color: #7f7f7f; text-decoration-color: #7f7f7f\">base.py</span></a><span style=\"color: #7f7f7f; text-decoration-color: #7f7f7f\">:</span><a href=\"file:///Users/dricpro/PycharmProjects/Topotein/ProteinWorkshop/proteinworkshop/datasets/base.py#327\" target=\"_blank\"><span style=\"color: #7f7f7f; text-decoration-color: #7f7f7f\">327</span></a>\n",
       "</pre>\n"
      ]
     },
     "metadata": {},
     "output_type": "display_data"
    },
    {
     "data": {
      "text/plain": [
       "\u001B[2;36m                   \u001B[0m\u001B[2;36m \u001B[0m\u001B[34mINFO    \u001B[0m All structures already processed and \u001B[33moverwrite\u001B[0m=\u001B[3;91mFalse\u001B[0m. Skipping download.   \u001B]8;id=86304;file:///Users/dricpro/PycharmProjects/Topotein/ProteinWorkshop/proteinworkshop/datasets/base.py\u001B\\\u001B[2mbase.py\u001B[0m\u001B]8;;\u001B\\\u001B[2m:\u001B[0m\u001B]8;id=208927;file:///Users/dricpro/PycharmProjects/Topotein/ProteinWorkshop/proteinworkshop/datasets/base.py#362\u001B\\\u001B[2m362\u001B[0m\u001B]8;;\u001B\\\n"
      ],
      "text/html": [
       "<pre style=\"white-space:pre;overflow-x:auto;line-height:normal;font-family:Menlo,'DejaVu Sans Mono',consolas,'Courier New',monospace\"><span style=\"color: #7fbfbf; text-decoration-color: #7fbfbf\">                    </span><span style=\"color: #000080; text-decoration-color: #000080\">INFO    </span> All structures already processed and <span style=\"color: #808000; text-decoration-color: #808000\">overwrite</span>=<span style=\"color: #ff0000; text-decoration-color: #ff0000; font-style: italic\">False</span>. Skipping download.   <a href=\"file:///Users/dricpro/PycharmProjects/Topotein/ProteinWorkshop/proteinworkshop/datasets/base.py\" target=\"_blank\"><span style=\"color: #7f7f7f; text-decoration-color: #7f7f7f\">base.py</span></a><span style=\"color: #7f7f7f; text-decoration-color: #7f7f7f\">:</span><a href=\"file:///Users/dricpro/PycharmProjects/Topotein/ProteinWorkshop/proteinworkshop/datasets/base.py#362\" target=\"_blank\"><span style=\"color: #7f7f7f; text-decoration-color: #7f7f7f\">362</span></a>\n",
       "</pre>\n"
      ]
     },
     "metadata": {},
     "output_type": "display_data"
    },
    {
     "data": {
      "text/plain": [
       "\u001B[2;36m[01/26/25 14:30:50]\u001B[0m\u001B[2;36m \u001B[0m\u001B[34mINFO    \u001B[0m Reading data into memory                                                   \u001B]8;id=753272;file:///Users/dricpro/PycharmProjects/Topotein/ProteinWorkshop/proteinworkshop/datasets/base.py\u001B\\\u001B[2mbase.py\u001B[0m\u001B]8;;\u001B\\\u001B[2m:\u001B[0m\u001B]8;id=994720;file:///Users/dricpro/PycharmProjects/Topotein/ProteinWorkshop/proteinworkshop/datasets/base.py#337\u001B\\\u001B[2m337\u001B[0m\u001B]8;;\u001B\\\n"
      ],
      "text/html": [
       "<pre style=\"white-space:pre;overflow-x:auto;line-height:normal;font-family:Menlo,'DejaVu Sans Mono',consolas,'Courier New',monospace\"><span style=\"color: #7fbfbf; text-decoration-color: #7fbfbf\">[01/26/25 14:30:50] </span><span style=\"color: #000080; text-decoration-color: #000080\">INFO    </span> Reading data into memory                                                   <a href=\"file:///Users/dricpro/PycharmProjects/Topotein/ProteinWorkshop/proteinworkshop/datasets/base.py\" target=\"_blank\"><span style=\"color: #7f7f7f; text-decoration-color: #7f7f7f\">base.py</span></a><span style=\"color: #7f7f7f; text-decoration-color: #7f7f7f\">:</span><a href=\"file:///Users/dricpro/PycharmProjects/Topotein/ProteinWorkshop/proteinworkshop/datasets/base.py#337\" target=\"_blank\"><span style=\"color: #7f7f7f; text-decoration-color: #7f7f7f\">337</span></a>\n",
       "</pre>\n"
      ]
     },
     "metadata": {},
     "output_type": "display_data"
    },
    {
     "name": "stderr",
     "output_type": "stream",
     "text": [
      "  0%|          | 0/18006 [00:00<?, ?it/s]/Users/dricpro/PycharmProjects/Topotein/ProteinWorkshop/proteinworkshop/datasets/base.py:339: FutureWarning:\n",
      "\n",
      "You are using `torch.load` with `weights_only=False` (the current default value), which uses the default pickle module implicitly. It is possible to construct malicious pickle data which will execute arbitrary code during unpickling (See https://github.com/pytorch/pytorch/blob/main/SECURITY.md#untrusted-models for more details). In a future release, the default value for `weights_only` will be flipped to `True`. This limits the functions that could be executed during unpickling. Arbitrary objects will no longer be allowed to be loaded via this mode unless they are explicitly allowlisted by the user via `torch.serialization.add_safe_globals`. We recommend you start setting `weights_only=True` for any use case where you don't have full control of the loaded file. Please open an issue on GitHub for any issues related to this experimental feature.\n",
      "\n",
      "100%|██████████| 18006/18006 [00:11<00:00, 1553.87it/s]\n"
     ]
    },
    {
     "data": {
      "text/plain": [
       "\u001B[2;36m[01/26/25 14:31:01]\u001B[0m\u001B[2;36m \u001B[0m\u001B[34mINFO    \u001B[0m Preprocessing validation data                                               \u001B]8;id=656857;file:///Users/dricpro/PycharmProjects/Topotein/ProteinWorkshop/proteinworkshop/datasets/base.py\u001B\\\u001B[2mbase.py\u001B[0m\u001B]8;;\u001B\\\u001B[2m:\u001B[0m\u001B]8;id=546195;file:///Users/dricpro/PycharmProjects/Topotein/ProteinWorkshop/proteinworkshop/datasets/base.py#89\u001B\\\u001B[2m89\u001B[0m\u001B]8;;\u001B\\\n"
      ],
      "text/html": [
       "<pre style=\"white-space:pre;overflow-x:auto;line-height:normal;font-family:Menlo,'DejaVu Sans Mono',consolas,'Courier New',monospace\"><span style=\"color: #7fbfbf; text-decoration-color: #7fbfbf\">[01/26/25 14:31:01] </span><span style=\"color: #000080; text-decoration-color: #000080\">INFO    </span> Preprocessing validation data                                               <a href=\"file:///Users/dricpro/PycharmProjects/Topotein/ProteinWorkshop/proteinworkshop/datasets/base.py\" target=\"_blank\"><span style=\"color: #7f7f7f; text-decoration-color: #7f7f7f\">base.py</span></a><span style=\"color: #7f7f7f; text-decoration-color: #7f7f7f\">:</span><a href=\"file:///Users/dricpro/PycharmProjects/Topotein/ProteinWorkshop/proteinworkshop/datasets/base.py#89\" target=\"_blank\"><span style=\"color: #7f7f7f; text-decoration-color: #7f7f7f\">89</span></a>\n",
       "</pre>\n"
      ]
     },
     "metadata": {},
     "output_type": "display_data"
    },
    {
     "data": {
      "text/plain": [
       "\u001B[2;36m                   \u001B[0m\u001B[2;36m \u001B[0m\u001B[34mINFO    \u001B[0m All structures already processed and \u001B[33moverwrite\u001B[0m=\u001B[3;91mFalse\u001B[0m. Skipping download.   \u001B]8;id=705523;file:///Users/dricpro/PycharmProjects/Topotein/ProteinWorkshop/proteinworkshop/datasets/base.py\u001B\\\u001B[2mbase.py\u001B[0m\u001B]8;;\u001B\\\u001B[2m:\u001B[0m\u001B]8;id=102233;file:///Users/dricpro/PycharmProjects/Topotein/ProteinWorkshop/proteinworkshop/datasets/base.py#327\u001B\\\u001B[2m327\u001B[0m\u001B]8;;\u001B\\\n"
      ],
      "text/html": [
       "<pre style=\"white-space:pre;overflow-x:auto;line-height:normal;font-family:Menlo,'DejaVu Sans Mono',consolas,'Courier New',monospace\"><span style=\"color: #7fbfbf; text-decoration-color: #7fbfbf\">                    </span><span style=\"color: #000080; text-decoration-color: #000080\">INFO    </span> All structures already processed and <span style=\"color: #808000; text-decoration-color: #808000\">overwrite</span>=<span style=\"color: #ff0000; text-decoration-color: #ff0000; font-style: italic\">False</span>. Skipping download.   <a href=\"file:///Users/dricpro/PycharmProjects/Topotein/ProteinWorkshop/proteinworkshop/datasets/base.py\" target=\"_blank\"><span style=\"color: #7f7f7f; text-decoration-color: #7f7f7f\">base.py</span></a><span style=\"color: #7f7f7f; text-decoration-color: #7f7f7f\">:</span><a href=\"file:///Users/dricpro/PycharmProjects/Topotein/ProteinWorkshop/proteinworkshop/datasets/base.py#327\" target=\"_blank\"><span style=\"color: #7f7f7f; text-decoration-color: #7f7f7f\">327</span></a>\n",
       "</pre>\n"
      ]
     },
     "metadata": {},
     "output_type": "display_data"
    },
    {
     "data": {
      "text/plain": [
       "\u001B[2;36m                   \u001B[0m\u001B[2;36m \u001B[0m\u001B[34mINFO    \u001B[0m All structures already processed and \u001B[33moverwrite\u001B[0m=\u001B[3;91mFalse\u001B[0m. Skipping download.   \u001B]8;id=454933;file:///Users/dricpro/PycharmProjects/Topotein/ProteinWorkshop/proteinworkshop/datasets/base.py\u001B\\\u001B[2mbase.py\u001B[0m\u001B]8;;\u001B\\\u001B[2m:\u001B[0m\u001B]8;id=879272;file:///Users/dricpro/PycharmProjects/Topotein/ProteinWorkshop/proteinworkshop/datasets/base.py#362\u001B\\\u001B[2m362\u001B[0m\u001B]8;;\u001B\\\n"
      ],
      "text/html": [
       "<pre style=\"white-space:pre;overflow-x:auto;line-height:normal;font-family:Menlo,'DejaVu Sans Mono',consolas,'Courier New',monospace\"><span style=\"color: #7fbfbf; text-decoration-color: #7fbfbf\">                    </span><span style=\"color: #000080; text-decoration-color: #000080\">INFO    </span> All structures already processed and <span style=\"color: #808000; text-decoration-color: #808000\">overwrite</span>=<span style=\"color: #ff0000; text-decoration-color: #ff0000; font-style: italic\">False</span>. Skipping download.   <a href=\"file:///Users/dricpro/PycharmProjects/Topotein/ProteinWorkshop/proteinworkshop/datasets/base.py\" target=\"_blank\"><span style=\"color: #7f7f7f; text-decoration-color: #7f7f7f\">base.py</span></a><span style=\"color: #7f7f7f; text-decoration-color: #7f7f7f\">:</span><a href=\"file:///Users/dricpro/PycharmProjects/Topotein/ProteinWorkshop/proteinworkshop/datasets/base.py#362\" target=\"_blank\"><span style=\"color: #7f7f7f; text-decoration-color: #7f7f7f\">362</span></a>\n",
       "</pre>\n"
      ]
     },
     "metadata": {},
     "output_type": "display_data"
    },
    {
     "data": {
      "text/plain": [
       "\u001B[2;36m                   \u001B[0m\u001B[2;36m \u001B[0m\u001B[34mINFO    \u001B[0m Reading data into memory                                                   \u001B]8;id=56646;file:///Users/dricpro/PycharmProjects/Topotein/ProteinWorkshop/proteinworkshop/datasets/base.py\u001B\\\u001B[2mbase.py\u001B[0m\u001B]8;;\u001B\\\u001B[2m:\u001B[0m\u001B]8;id=335767;file:///Users/dricpro/PycharmProjects/Topotein/ProteinWorkshop/proteinworkshop/datasets/base.py#337\u001B\\\u001B[2m337\u001B[0m\u001B]8;;\u001B\\\n"
      ],
      "text/html": [
       "<pre style=\"white-space:pre;overflow-x:auto;line-height:normal;font-family:Menlo,'DejaVu Sans Mono',consolas,'Courier New',monospace\"><span style=\"color: #7fbfbf; text-decoration-color: #7fbfbf\">                    </span><span style=\"color: #000080; text-decoration-color: #000080\">INFO    </span> Reading data into memory                                                   <a href=\"file:///Users/dricpro/PycharmProjects/Topotein/ProteinWorkshop/proteinworkshop/datasets/base.py\" target=\"_blank\"><span style=\"color: #7f7f7f; text-decoration-color: #7f7f7f\">base.py</span></a><span style=\"color: #7f7f7f; text-decoration-color: #7f7f7f\">:</span><a href=\"file:///Users/dricpro/PycharmProjects/Topotein/ProteinWorkshop/proteinworkshop/datasets/base.py#337\" target=\"_blank\"><span style=\"color: #7f7f7f; text-decoration-color: #7f7f7f\">337</span></a>\n",
       "</pre>\n"
      ]
     },
     "metadata": {},
     "output_type": "display_data"
    },
    {
     "name": "stderr",
     "output_type": "stream",
     "text": [
      "100%|██████████| 607/607 [00:00<00:00, 3165.19it/s]\n"
     ]
    },
    {
     "name": "stdout",
     "output_type": "stream",
     "text": [
      "DataProteinBatch(fill_value=1e-05, atom_list=[37], coords=[6364, 37, 3], residues=[32], id=[32], residue_id=[32], residue_type=[6364], chains=[6364], x=[6364], amino_acid_one_hot=[6364, 23], seq_pos=[6364, 1], batch=[6364], ptr=[33])\n"
     ]
    }
   ],
   "execution_count": 3
  },
  {
   "cell_type": "markdown",
   "metadata": {},
   "source": [
    "### 3. Either pre-train or fine-tune a model using the selected dataset"
   ]
  },
  {
   "cell_type": "code",
   "metadata": {
    "ExecuteTime": {
     "end_time": "2025-01-26T16:09:33.235340Z",
     "start_time": "2025-01-26T16:09:32.636467Z"
    }
   },
   "source": [
    "from proteinworkshop.finetune import finetune\n",
    "from proteinworkshop.train import train_model\n",
    "\n",
    "train_model(cfg)  # Pre-train a model using the selected data\n",
    "# finetune(cfg)  # Fine-tune a model using the selected data"
   ],
   "outputs": [
    {
     "name": "stderr",
     "output_type": "stream",
     "text": [
      "/opt/anaconda3/envs/Topotein/lib/python3.10/site-packages/beartype/_util/hint/pep/utilpeptest.py:311: BeartypeDecorHintPep585DeprecationWarning:\n",
      "\n",
      "PEP 484 type hint typing.Tuple[torch.Tensor, torch.Tensor] deprecated by PEP 585. This hint is scheduled for removal in the first Python version released after October 5th, 2025. To resolve this, import this hint from \"beartype.typing\" rather than \"typing\". For further commentary and alternatives, see also:\n",
      "    https://beartype.readthedocs.io/en/latest/api_roar/#pep-585-deprecations\n",
      "\n",
      "/opt/anaconda3/envs/Topotein/lib/python3.10/site-packages/beartype/_util/hint/pep/utilpeptest.py:311: BeartypeDecorHintPep585DeprecationWarning:\n",
      "\n",
      "PEP 484 type hint typing.Callable deprecated by PEP 585. This hint is scheduled for removal in the first Python version released after October 5th, 2025. To resolve this, import this hint from \"beartype.typing\" rather than \"typing\". For further commentary and alternatives, see also:\n",
      "    https://beartype.readthedocs.io/en/latest/api_roar/#pep-585-deprecations\n",
      "\n",
      "/opt/anaconda3/envs/Topotein/lib/python3.10/site-packages/beartype/_util/hint/pep/utilpeptest.py:311: BeartypeDecorHintPep585DeprecationWarning:\n",
      "\n",
      "PEP 484 type hint typing.Dict[str, torch.Tensor] deprecated by PEP 585. This hint is scheduled for removal in the first Python version released after October 5th, 2025. To resolve this, import this hint from \"beartype.typing\" rather than \"typing\". For further commentary and alternatives, see also:\n",
      "    https://beartype.readthedocs.io/en/latest/api_roar/#pep-585-deprecations\n",
      "\n",
      "Seed set to 52\n"
     ]
    },
    {
     "data": {
      "text/plain": [
       "\u001B[2;36m[01/26/25 16:09:33]\u001B[0m\u001B[2;36m \u001B[0m\u001B[34mINFO    \u001B[0m Instantiating datamodule: <proteinworkshop.datasets.cath.CATHDataModule\u001B[33m...\u001B[0m \u001B]8;id=896664;file:///Users/dricpro/PycharmProjects/Topotein/ProteinWorkshop/proteinworkshop/train.py\u001B\\\u001B[2mtrain.py\u001B[0m\u001B]8;;\u001B\\\u001B[2m:\u001B[0m\u001B]8;id=987468;file:///Users/dricpro/PycharmProjects/Topotein/ProteinWorkshop/proteinworkshop/train.py#99\u001B\\\u001B[2m99\u001B[0m\u001B]8;;\u001B\\\n"
      ],
      "text/html": [
       "<pre style=\"white-space:pre;overflow-x:auto;line-height:normal;font-family:Menlo,'DejaVu Sans Mono',consolas,'Courier New',monospace\"><span style=\"color: #7fbfbf; text-decoration-color: #7fbfbf\">[01/26/25 16:09:33] </span><span style=\"color: #000080; text-decoration-color: #000080\">INFO    </span> Instantiating datamodule: &lt;proteinworkshop.datasets.cath.CATHDataModule<span style=\"color: #808000; text-decoration-color: #808000\">...</span> <a href=\"file:///Users/dricpro/PycharmProjects/Topotein/ProteinWorkshop/proteinworkshop/train.py\" target=\"_blank\"><span style=\"color: #7f7f7f; text-decoration-color: #7f7f7f\">train.py</span></a><span style=\"color: #7f7f7f; text-decoration-color: #7f7f7f\">:</span><a href=\"file:///Users/dricpro/PycharmProjects/Topotein/ProteinWorkshop/proteinworkshop/train.py#99\" target=\"_blank\"><span style=\"color: #7f7f7f; text-decoration-color: #7f7f7f\">99</span></a>\n",
       "</pre>\n"
      ]
     },
     "metadata": {},
     "output_type": "display_data"
    },
    {
     "data": {
      "text/plain": [
       "\u001B[2;36m                   \u001B[0m\u001B[2;36m \u001B[0m\u001B[34mINFO    \u001B[0m Instantiating callbacks\u001B[33m...\u001B[0m                                                \u001B]8;id=166878;file:///Users/dricpro/PycharmProjects/Topotein/ProteinWorkshop/proteinworkshop/train.py\u001B\\\u001B[2mtrain.py\u001B[0m\u001B]8;;\u001B\\\u001B[2m:\u001B[0m\u001B]8;id=837528;file:///Users/dricpro/PycharmProjects/Topotein/ProteinWorkshop/proteinworkshop/train.py#106\u001B\\\u001B[2m106\u001B[0m\u001B]8;;\u001B\\\n"
      ],
      "text/html": [
       "<pre style=\"white-space:pre;overflow-x:auto;line-height:normal;font-family:Menlo,'DejaVu Sans Mono',consolas,'Courier New',monospace\"><span style=\"color: #7fbfbf; text-decoration-color: #7fbfbf\">                    </span><span style=\"color: #000080; text-decoration-color: #000080\">INFO    </span> Instantiating callbacks<span style=\"color: #808000; text-decoration-color: #808000\">...</span>                                                <a href=\"file:///Users/dricpro/PycharmProjects/Topotein/ProteinWorkshop/proteinworkshop/train.py\" target=\"_blank\"><span style=\"color: #7f7f7f; text-decoration-color: #7f7f7f\">train.py</span></a><span style=\"color: #7f7f7f; text-decoration-color: #7f7f7f\">:</span><a href=\"file:///Users/dricpro/PycharmProjects/Topotein/ProteinWorkshop/proteinworkshop/train.py#106\" target=\"_blank\"><span style=\"color: #7f7f7f; text-decoration-color: #7f7f7f\">106</span></a>\n",
       "</pre>\n"
      ]
     },
     "metadata": {},
     "output_type": "display_data"
    },
    {
     "data": {
      "text/plain": [
       "\u001B[2;36m                   \u001B[0m\u001B[2;36m \u001B[0m\u001B[34mINFO    \u001B[0m Instantiating callback \u001B[1m<\u001B[0m\u001B[1;95mlightning.pytorch.callbacks.ModelCheckpoint\u001B[0m\u001B[1m>\u001B[0m   \u001B]8;id=1185;file:///Users/dricpro/PycharmProjects/Topotein/ProteinWorkshop/proteinworkshop/utils/callbacks.py\u001B\\\u001B[2mcallbacks.py\u001B[0m\u001B]8;;\u001B\\\u001B[2m:\u001B[0m\u001B]8;id=35855;file:///Users/dricpro/PycharmProjects/Topotein/ProteinWorkshop/proteinworkshop/utils/callbacks.py#31\u001B\\\u001B[2m31\u001B[0m\u001B]8;;\u001B\\\n"
      ],
      "text/html": [
       "<pre style=\"white-space:pre;overflow-x:auto;line-height:normal;font-family:Menlo,'DejaVu Sans Mono',consolas,'Courier New',monospace\"><span style=\"color: #7fbfbf; text-decoration-color: #7fbfbf\">                    </span><span style=\"color: #000080; text-decoration-color: #000080\">INFO    </span> Instantiating callback <span style=\"font-weight: bold\">&lt;</span><span style=\"color: #ff00ff; text-decoration-color: #ff00ff; font-weight: bold\">lightning.pytorch.callbacks.ModelCheckpoint</span><span style=\"font-weight: bold\">&gt;</span>   <a href=\"file:///Users/dricpro/PycharmProjects/Topotein/ProteinWorkshop/proteinworkshop/utils/callbacks.py\" target=\"_blank\"><span style=\"color: #7f7f7f; text-decoration-color: #7f7f7f\">callbacks.py</span></a><span style=\"color: #7f7f7f; text-decoration-color: #7f7f7f\">:</span><a href=\"file:///Users/dricpro/PycharmProjects/Topotein/ProteinWorkshop/proteinworkshop/utils/callbacks.py#31\" target=\"_blank\"><span style=\"color: #7f7f7f; text-decoration-color: #7f7f7f\">31</span></a>\n",
       "</pre>\n"
      ]
     },
     "metadata": {},
     "output_type": "display_data"
    },
    {
     "data": {
      "text/plain": [
       "\u001B[2;36m                   \u001B[0m\u001B[2;36m \u001B[0m\u001B[34mINFO    \u001B[0m Instantiating callback \u001B[1m<\u001B[0m\u001B[1;95mlightning.pytorch.callbacks.EarlyStopping\u001B[0m\u001B[1m>\u001B[0m     \u001B]8;id=248769;file:///Users/dricpro/PycharmProjects/Topotein/ProteinWorkshop/proteinworkshop/utils/callbacks.py\u001B\\\u001B[2mcallbacks.py\u001B[0m\u001B]8;;\u001B\\\u001B[2m:\u001B[0m\u001B]8;id=72738;file:///Users/dricpro/PycharmProjects/Topotein/ProteinWorkshop/proteinworkshop/utils/callbacks.py#31\u001B\\\u001B[2m31\u001B[0m\u001B]8;;\u001B\\\n"
      ],
      "text/html": [
       "<pre style=\"white-space:pre;overflow-x:auto;line-height:normal;font-family:Menlo,'DejaVu Sans Mono',consolas,'Courier New',monospace\"><span style=\"color: #7fbfbf; text-decoration-color: #7fbfbf\">                    </span><span style=\"color: #000080; text-decoration-color: #000080\">INFO    </span> Instantiating callback <span style=\"font-weight: bold\">&lt;</span><span style=\"color: #ff00ff; text-decoration-color: #ff00ff; font-weight: bold\">lightning.pytorch.callbacks.EarlyStopping</span><span style=\"font-weight: bold\">&gt;</span>     <a href=\"file:///Users/dricpro/PycharmProjects/Topotein/ProteinWorkshop/proteinworkshop/utils/callbacks.py\" target=\"_blank\"><span style=\"color: #7f7f7f; text-decoration-color: #7f7f7f\">callbacks.py</span></a><span style=\"color: #7f7f7f; text-decoration-color: #7f7f7f\">:</span><a href=\"file:///Users/dricpro/PycharmProjects/Topotein/ProteinWorkshop/proteinworkshop/utils/callbacks.py#31\" target=\"_blank\"><span style=\"color: #7f7f7f; text-decoration-color: #7f7f7f\">31</span></a>\n",
       "</pre>\n"
      ]
     },
     "metadata": {},
     "output_type": "display_data"
    },
    {
     "data": {
      "text/plain": [
       "\u001B[2;36m                   \u001B[0m\u001B[2;36m \u001B[0m\u001B[34mINFO    \u001B[0m Instantiating callback \u001B[1m<\u001B[0m\u001B[1;95mlightning.pytorch.callbacks.RichModelSummary\u001B[0m\u001B[1m>\u001B[0m  \u001B]8;id=655443;file:///Users/dricpro/PycharmProjects/Topotein/ProteinWorkshop/proteinworkshop/utils/callbacks.py\u001B\\\u001B[2mcallbacks.py\u001B[0m\u001B]8;;\u001B\\\u001B[2m:\u001B[0m\u001B]8;id=287690;file:///Users/dricpro/PycharmProjects/Topotein/ProteinWorkshop/proteinworkshop/utils/callbacks.py#31\u001B\\\u001B[2m31\u001B[0m\u001B]8;;\u001B\\\n"
      ],
      "text/html": [
       "<pre style=\"white-space:pre;overflow-x:auto;line-height:normal;font-family:Menlo,'DejaVu Sans Mono',consolas,'Courier New',monospace\"><span style=\"color: #7fbfbf; text-decoration-color: #7fbfbf\">                    </span><span style=\"color: #000080; text-decoration-color: #000080\">INFO    </span> Instantiating callback <span style=\"font-weight: bold\">&lt;</span><span style=\"color: #ff00ff; text-decoration-color: #ff00ff; font-weight: bold\">lightning.pytorch.callbacks.RichModelSummary</span><span style=\"font-weight: bold\">&gt;</span>  <a href=\"file:///Users/dricpro/PycharmProjects/Topotein/ProteinWorkshop/proteinworkshop/utils/callbacks.py\" target=\"_blank\"><span style=\"color: #7f7f7f; text-decoration-color: #7f7f7f\">callbacks.py</span></a><span style=\"color: #7f7f7f; text-decoration-color: #7f7f7f\">:</span><a href=\"file:///Users/dricpro/PycharmProjects/Topotein/ProteinWorkshop/proteinworkshop/utils/callbacks.py#31\" target=\"_blank\"><span style=\"color: #7f7f7f; text-decoration-color: #7f7f7f\">31</span></a>\n",
       "</pre>\n"
      ]
     },
     "metadata": {},
     "output_type": "display_data"
    },
    {
     "data": {
      "text/plain": [
       "\u001B[2;36m                   \u001B[0m\u001B[2;36m \u001B[0m\u001B[34mINFO    \u001B[0m Instantiating callback \u001B[1m<\u001B[0m\u001B[1;95mlightning.pytorch.callbacks.RichProgressBar\u001B[0m\u001B[1m>\u001B[0m   \u001B]8;id=128786;file:///Users/dricpro/PycharmProjects/Topotein/ProteinWorkshop/proteinworkshop/utils/callbacks.py\u001B\\\u001B[2mcallbacks.py\u001B[0m\u001B]8;;\u001B\\\u001B[2m:\u001B[0m\u001B]8;id=899088;file:///Users/dricpro/PycharmProjects/Topotein/ProteinWorkshop/proteinworkshop/utils/callbacks.py#31\u001B\\\u001B[2m31\u001B[0m\u001B]8;;\u001B\\\n"
      ],
      "text/html": [
       "<pre style=\"white-space:pre;overflow-x:auto;line-height:normal;font-family:Menlo,'DejaVu Sans Mono',consolas,'Courier New',monospace\"><span style=\"color: #7fbfbf; text-decoration-color: #7fbfbf\">                    </span><span style=\"color: #000080; text-decoration-color: #000080\">INFO    </span> Instantiating callback <span style=\"font-weight: bold\">&lt;</span><span style=\"color: #ff00ff; text-decoration-color: #ff00ff; font-weight: bold\">lightning.pytorch.callbacks.RichProgressBar</span><span style=\"font-weight: bold\">&gt;</span>   <a href=\"file:///Users/dricpro/PycharmProjects/Topotein/ProteinWorkshop/proteinworkshop/utils/callbacks.py\" target=\"_blank\"><span style=\"color: #7f7f7f; text-decoration-color: #7f7f7f\">callbacks.py</span></a><span style=\"color: #7f7f7f; text-decoration-color: #7f7f7f\">:</span><a href=\"file:///Users/dricpro/PycharmProjects/Topotein/ProteinWorkshop/proteinworkshop/utils/callbacks.py#31\" target=\"_blank\"><span style=\"color: #7f7f7f; text-decoration-color: #7f7f7f\">31</span></a>\n",
       "</pre>\n"
      ]
     },
     "metadata": {},
     "output_type": "display_data"
    },
    {
     "data": {
      "text/plain": [
       "\u001B[2;36m                   \u001B[0m\u001B[2;36m \u001B[0m\u001B[34mINFO    \u001B[0m Instantiating callback                                                 \u001B]8;id=396582;file:///Users/dricpro/PycharmProjects/Topotein/ProteinWorkshop/proteinworkshop/utils/callbacks.py\u001B\\\u001B[2mcallbacks.py\u001B[0m\u001B]8;;\u001B\\\u001B[2m:\u001B[0m\u001B]8;id=993710;file:///Users/dricpro/PycharmProjects/Topotein/ProteinWorkshop/proteinworkshop/utils/callbacks.py#31\u001B\\\u001B[2m31\u001B[0m\u001B]8;;\u001B\\\n",
       "\u001B[2;36m                    \u001B[0m         \u001B[1m<\u001B[0m\u001B[1;95mlightning.pytorch.callbacks.LearningRateMonitor\u001B[0m\u001B[1m>\u001B[0m                      \u001B[2m               \u001B[0m\n"
      ],
      "text/html": [
       "<pre style=\"white-space:pre;overflow-x:auto;line-height:normal;font-family:Menlo,'DejaVu Sans Mono',consolas,'Courier New',monospace\"><span style=\"color: #7fbfbf; text-decoration-color: #7fbfbf\">                    </span><span style=\"color: #000080; text-decoration-color: #000080\">INFO    </span> Instantiating callback                                                 <a href=\"file:///Users/dricpro/PycharmProjects/Topotein/ProteinWorkshop/proteinworkshop/utils/callbacks.py\" target=\"_blank\"><span style=\"color: #7f7f7f; text-decoration-color: #7f7f7f\">callbacks.py</span></a><span style=\"color: #7f7f7f; text-decoration-color: #7f7f7f\">:</span><a href=\"file:///Users/dricpro/PycharmProjects/Topotein/ProteinWorkshop/proteinworkshop/utils/callbacks.py#31\" target=\"_blank\"><span style=\"color: #7f7f7f; text-decoration-color: #7f7f7f\">31</span></a>\n",
       "<span style=\"color: #7fbfbf; text-decoration-color: #7fbfbf\">                    </span>         <span style=\"font-weight: bold\">&lt;</span><span style=\"color: #ff00ff; text-decoration-color: #ff00ff; font-weight: bold\">lightning.pytorch.callbacks.LearningRateMonitor</span><span style=\"font-weight: bold\">&gt;</span>                      <span style=\"color: #7f7f7f; text-decoration-color: #7f7f7f\">               </span>\n",
       "</pre>\n"
      ]
     },
     "metadata": {},
     "output_type": "display_data"
    },
    {
     "data": {
      "text/plain": [
       "\u001B[2;36m                   \u001B[0m\u001B[2;36m \u001B[0m\u001B[34mINFO    \u001B[0m Instantiating callback \u001B[1m<\u001B[0m\u001B[1;95mlightning.pytorch.callbacks.EarlyStopping\u001B[0m\u001B[1m>\u001B[0m     \u001B]8;id=935800;file:///Users/dricpro/PycharmProjects/Topotein/ProteinWorkshop/proteinworkshop/utils/callbacks.py\u001B\\\u001B[2mcallbacks.py\u001B[0m\u001B]8;;\u001B\\\u001B[2m:\u001B[0m\u001B]8;id=924324;file:///Users/dricpro/PycharmProjects/Topotein/ProteinWorkshop/proteinworkshop/utils/callbacks.py#31\u001B\\\u001B[2m31\u001B[0m\u001B]8;;\u001B\\\n"
      ],
      "text/html": [
       "<pre style=\"white-space:pre;overflow-x:auto;line-height:normal;font-family:Menlo,'DejaVu Sans Mono',consolas,'Courier New',monospace\"><span style=\"color: #7fbfbf; text-decoration-color: #7fbfbf\">                    </span><span style=\"color: #000080; text-decoration-color: #000080\">INFO    </span> Instantiating callback <span style=\"font-weight: bold\">&lt;</span><span style=\"color: #ff00ff; text-decoration-color: #ff00ff; font-weight: bold\">lightning.pytorch.callbacks.EarlyStopping</span><span style=\"font-weight: bold\">&gt;</span>     <a href=\"file:///Users/dricpro/PycharmProjects/Topotein/ProteinWorkshop/proteinworkshop/utils/callbacks.py\" target=\"_blank\"><span style=\"color: #7f7f7f; text-decoration-color: #7f7f7f\">callbacks.py</span></a><span style=\"color: #7f7f7f; text-decoration-color: #7f7f7f\">:</span><a href=\"file:///Users/dricpro/PycharmProjects/Topotein/ProteinWorkshop/proteinworkshop/utils/callbacks.py#31\" target=\"_blank\"><span style=\"color: #7f7f7f; text-decoration-color: #7f7f7f\">31</span></a>\n",
       "</pre>\n"
      ]
     },
     "metadata": {},
     "output_type": "display_data"
    },
    {
     "data": {
      "text/plain": [
       "\u001B[2;36m                   \u001B[0m\u001B[2;36m \u001B[0m\u001B[34mINFO    \u001B[0m Instantiating loggers\u001B[33m...\u001B[0m                                                  \u001B]8;id=545720;file:///Users/dricpro/PycharmProjects/Topotein/ProteinWorkshop/proteinworkshop/train.py\u001B\\\u001B[2mtrain.py\u001B[0m\u001B]8;;\u001B\\\u001B[2m:\u001B[0m\u001B]8;id=702368;file:///Users/dricpro/PycharmProjects/Topotein/ProteinWorkshop/proteinworkshop/train.py#111\u001B\\\u001B[2m111\u001B[0m\u001B]8;;\u001B\\\n"
      ],
      "text/html": [
       "<pre style=\"white-space:pre;overflow-x:auto;line-height:normal;font-family:Menlo,'DejaVu Sans Mono',consolas,'Courier New',monospace\"><span style=\"color: #7fbfbf; text-decoration-color: #7fbfbf\">                    </span><span style=\"color: #000080; text-decoration-color: #000080\">INFO    </span> Instantiating loggers<span style=\"color: #808000; text-decoration-color: #808000\">...</span>                                                  <a href=\"file:///Users/dricpro/PycharmProjects/Topotein/ProteinWorkshop/proteinworkshop/train.py\" target=\"_blank\"><span style=\"color: #7f7f7f; text-decoration-color: #7f7f7f\">train.py</span></a><span style=\"color: #7f7f7f; text-decoration-color: #7f7f7f\">:</span><a href=\"file:///Users/dricpro/PycharmProjects/Topotein/ProteinWorkshop/proteinworkshop/train.py#111\" target=\"_blank\"><span style=\"color: #7f7f7f; text-decoration-color: #7f7f7f\">111</span></a>\n",
       "</pre>\n"
      ]
     },
     "metadata": {},
     "output_type": "display_data"
    },
    {
     "data": {
      "text/plain": [
       "\u001B[2;36m                   \u001B[0m\u001B[2;36m \u001B[0m\u001B[34mINFO    \u001B[0m Instantiating logger \u001B[1m<\u001B[0m\u001B[1;95mlightning.pytorch.loggers.csv_logs.CSVLogger\u001B[0m\u001B[1m>\u001B[0m      \u001B]8;id=193480;file:///Users/dricpro/PycharmProjects/Topotein/ProteinWorkshop/proteinworkshop/utils/loggers.py\u001B\\\u001B[2mloggers.py\u001B[0m\u001B]8;;\u001B\\\u001B[2m:\u001B[0m\u001B]8;id=825667;file:///Users/dricpro/PycharmProjects/Topotein/ProteinWorkshop/proteinworkshop/utils/loggers.py#31\u001B\\\u001B[2m31\u001B[0m\u001B]8;;\u001B\\\n"
      ],
      "text/html": [
       "<pre style=\"white-space:pre;overflow-x:auto;line-height:normal;font-family:Menlo,'DejaVu Sans Mono',consolas,'Courier New',monospace\"><span style=\"color: #7fbfbf; text-decoration-color: #7fbfbf\">                    </span><span style=\"color: #000080; text-decoration-color: #000080\">INFO    </span> Instantiating logger <span style=\"font-weight: bold\">&lt;</span><span style=\"color: #ff00ff; text-decoration-color: #ff00ff; font-weight: bold\">lightning.pytorch.loggers.csv_logs.CSVLogger</span><span style=\"font-weight: bold\">&gt;</span>      <a href=\"file:///Users/dricpro/PycharmProjects/Topotein/ProteinWorkshop/proteinworkshop/utils/loggers.py\" target=\"_blank\"><span style=\"color: #7f7f7f; text-decoration-color: #7f7f7f\">loggers.py</span></a><span style=\"color: #7f7f7f; text-decoration-color: #7f7f7f\">:</span><a href=\"file:///Users/dricpro/PycharmProjects/Topotein/ProteinWorkshop/proteinworkshop/utils/loggers.py#31\" target=\"_blank\"><span style=\"color: #7f7f7f; text-decoration-color: #7f7f7f\">31</span></a>\n",
       "</pre>\n"
      ]
     },
     "metadata": {},
     "output_type": "display_data"
    },
    {
     "data": {
      "text/plain": [
       "\u001B[2;36m                   \u001B[0m\u001B[2;36m \u001B[0m\u001B[34mINFO    \u001B[0m Instantiating trainer\u001B[33m...\u001B[0m                                                  \u001B]8;id=750405;file:///Users/dricpro/PycharmProjects/Topotein/ProteinWorkshop/proteinworkshop/train.py\u001B\\\u001B[2mtrain.py\u001B[0m\u001B]8;;\u001B\\\u001B[2m:\u001B[0m\u001B]8;id=447387;file:///Users/dricpro/PycharmProjects/Topotein/ProteinWorkshop/proteinworkshop/train.py#114\u001B\\\u001B[2m114\u001B[0m\u001B]8;;\u001B\\\n"
      ],
      "text/html": [
       "<pre style=\"white-space:pre;overflow-x:auto;line-height:normal;font-family:Menlo,'DejaVu Sans Mono',consolas,'Courier New',monospace\"><span style=\"color: #7fbfbf; text-decoration-color: #7fbfbf\">                    </span><span style=\"color: #000080; text-decoration-color: #000080\">INFO    </span> Instantiating trainer<span style=\"color: #808000; text-decoration-color: #808000\">...</span>                                                  <a href=\"file:///Users/dricpro/PycharmProjects/Topotein/ProteinWorkshop/proteinworkshop/train.py\" target=\"_blank\"><span style=\"color: #7f7f7f; text-decoration-color: #7f7f7f\">train.py</span></a><span style=\"color: #7f7f7f; text-decoration-color: #7f7f7f\">:</span><a href=\"file:///Users/dricpro/PycharmProjects/Topotein/ProteinWorkshop/proteinworkshop/train.py#114\" target=\"_blank\"><span style=\"color: #7f7f7f; text-decoration-color: #7f7f7f\">114</span></a>\n",
       "</pre>\n"
      ]
     },
     "metadata": {},
     "output_type": "display_data"
    },
    {
     "ename": "InstantiationException",
     "evalue": "Error in call to target 'lightning.pytorch.trainer.trainer.Trainer':\nMisconfigurationException('`Trainer(devices=0)` value is not a valid input using mps accelerator.')\nfull_key: trainer",
     "output_type": "error",
     "traceback": [
      "\u001B[0;31m---------------------------------------------------------------------------\u001B[0m",
      "\u001B[0;31mMisconfigurationException\u001B[0m                 Traceback (most recent call last)",
      "File \u001B[0;32m/opt/anaconda3/envs/Topotein/lib/python3.10/site-packages/hydra/_internal/instantiate/_instantiate2.py:92\u001B[0m, in \u001B[0;36m_call_target\u001B[0;34m(_target_, _partial_, args, kwargs, full_key)\u001B[0m\n\u001B[1;32m     91\u001B[0m \u001B[38;5;28;01mtry\u001B[39;00m:\n\u001B[0;32m---> 92\u001B[0m     \u001B[38;5;28;01mreturn\u001B[39;00m \u001B[43m_target_\u001B[49m\u001B[43m(\u001B[49m\u001B[38;5;241;43m*\u001B[39;49m\u001B[43margs\u001B[49m\u001B[43m,\u001B[49m\u001B[43m \u001B[49m\u001B[38;5;241;43m*\u001B[39;49m\u001B[38;5;241;43m*\u001B[39;49m\u001B[43mkwargs\u001B[49m\u001B[43m)\u001B[49m\n\u001B[1;32m     93\u001B[0m \u001B[38;5;28;01mexcept\u001B[39;00m \u001B[38;5;167;01mException\u001B[39;00m \u001B[38;5;28;01mas\u001B[39;00m e:\n",
      "File \u001B[0;32m/opt/anaconda3/envs/Topotein/lib/python3.10/site-packages/lightning/pytorch/utilities/argparse.py:70\u001B[0m, in \u001B[0;36m_defaults_from_env_vars.<locals>.insert_env_defaults\u001B[0;34m(self, *args, **kwargs)\u001B[0m\n\u001B[1;32m     69\u001B[0m \u001B[38;5;66;03m# all args were already moved to kwargs\u001B[39;00m\n\u001B[0;32m---> 70\u001B[0m \u001B[38;5;28;01mreturn\u001B[39;00m \u001B[43mfn\u001B[49m\u001B[43m(\u001B[49m\u001B[38;5;28;43mself\u001B[39;49m\u001B[43m,\u001B[49m\u001B[43m \u001B[49m\u001B[38;5;241;43m*\u001B[39;49m\u001B[38;5;241;43m*\u001B[39;49m\u001B[43mkwargs\u001B[49m\u001B[43m)\u001B[49m\n",
      "File \u001B[0;32m/opt/anaconda3/envs/Topotein/lib/python3.10/site-packages/lightning/pytorch/trainer/trainer.py:396\u001B[0m, in \u001B[0;36mTrainer.__init__\u001B[0;34m(self, accelerator, strategy, devices, num_nodes, precision, logger, callbacks, fast_dev_run, max_epochs, min_epochs, max_steps, min_steps, max_time, limit_train_batches, limit_val_batches, limit_test_batches, limit_predict_batches, overfit_batches, val_check_interval, check_val_every_n_epoch, num_sanity_val_steps, log_every_n_steps, enable_checkpointing, enable_progress_bar, enable_model_summary, accumulate_grad_batches, gradient_clip_val, gradient_clip_algorithm, deterministic, benchmark, inference_mode, use_distributed_sampler, profiler, detect_anomaly, barebones, plugins, sync_batchnorm, reload_dataloaders_every_n_epochs, default_root_dir)\u001B[0m\n\u001B[1;32m    394\u001B[0m \u001B[38;5;28mself\u001B[39m\u001B[38;5;241m.\u001B[39m_data_connector \u001B[38;5;241m=\u001B[39m _DataConnector(\u001B[38;5;28mself\u001B[39m)\n\u001B[0;32m--> 396\u001B[0m \u001B[38;5;28mself\u001B[39m\u001B[38;5;241m.\u001B[39m_accelerator_connector \u001B[38;5;241m=\u001B[39m \u001B[43m_AcceleratorConnector\u001B[49m\u001B[43m(\u001B[49m\n\u001B[1;32m    397\u001B[0m \u001B[43m    \u001B[49m\u001B[43mdevices\u001B[49m\u001B[38;5;241;43m=\u001B[39;49m\u001B[43mdevices\u001B[49m\u001B[43m,\u001B[49m\n\u001B[1;32m    398\u001B[0m \u001B[43m    \u001B[49m\u001B[43maccelerator\u001B[49m\u001B[38;5;241;43m=\u001B[39;49m\u001B[43maccelerator\u001B[49m\u001B[43m,\u001B[49m\n\u001B[1;32m    399\u001B[0m \u001B[43m    \u001B[49m\u001B[43mstrategy\u001B[49m\u001B[38;5;241;43m=\u001B[39;49m\u001B[43mstrategy\u001B[49m\u001B[43m,\u001B[49m\n\u001B[1;32m    400\u001B[0m \u001B[43m    \u001B[49m\u001B[43mnum_nodes\u001B[49m\u001B[38;5;241;43m=\u001B[39;49m\u001B[43mnum_nodes\u001B[49m\u001B[43m,\u001B[49m\n\u001B[1;32m    401\u001B[0m \u001B[43m    \u001B[49m\u001B[43msync_batchnorm\u001B[49m\u001B[38;5;241;43m=\u001B[39;49m\u001B[43msync_batchnorm\u001B[49m\u001B[43m,\u001B[49m\n\u001B[1;32m    402\u001B[0m \u001B[43m    \u001B[49m\u001B[43mbenchmark\u001B[49m\u001B[38;5;241;43m=\u001B[39;49m\u001B[43mbenchmark\u001B[49m\u001B[43m,\u001B[49m\n\u001B[1;32m    403\u001B[0m \u001B[43m    \u001B[49m\u001B[43muse_distributed_sampler\u001B[49m\u001B[38;5;241;43m=\u001B[39;49m\u001B[43muse_distributed_sampler\u001B[49m\u001B[43m,\u001B[49m\n\u001B[1;32m    404\u001B[0m \u001B[43m    \u001B[49m\u001B[43mdeterministic\u001B[49m\u001B[38;5;241;43m=\u001B[39;49m\u001B[43mdeterministic\u001B[49m\u001B[43m,\u001B[49m\n\u001B[1;32m    405\u001B[0m \u001B[43m    \u001B[49m\u001B[43mprecision\u001B[49m\u001B[38;5;241;43m=\u001B[39;49m\u001B[43mprecision\u001B[49m\u001B[43m,\u001B[49m\n\u001B[1;32m    406\u001B[0m \u001B[43m    \u001B[49m\u001B[43mplugins\u001B[49m\u001B[38;5;241;43m=\u001B[39;49m\u001B[43mplugins\u001B[49m\u001B[43m,\u001B[49m\n\u001B[1;32m    407\u001B[0m \u001B[43m\u001B[49m\u001B[43m)\u001B[49m\n\u001B[1;32m    408\u001B[0m \u001B[38;5;28mself\u001B[39m\u001B[38;5;241m.\u001B[39m_logger_connector \u001B[38;5;241m=\u001B[39m _LoggerConnector(\u001B[38;5;28mself\u001B[39m)\n",
      "File \u001B[0;32m/opt/anaconda3/envs/Topotein/lib/python3.10/site-packages/lightning/pytorch/trainer/connectors/accelerator_connector.py:146\u001B[0m, in \u001B[0;36m_AcceleratorConnector.__init__\u001B[0;34m(self, devices, num_nodes, accelerator, strategy, plugins, precision, sync_batchnorm, benchmark, use_distributed_sampler, deterministic)\u001B[0m\n\u001B[1;32m    144\u001B[0m     \u001B[38;5;28mself\u001B[39m\u001B[38;5;241m.\u001B[39m_accelerator_flag \u001B[38;5;241m=\u001B[39m \u001B[38;5;28mself\u001B[39m\u001B[38;5;241m.\u001B[39m_choose_gpu_accelerator_backend()\n\u001B[0;32m--> 146\u001B[0m \u001B[38;5;28;43mself\u001B[39;49m\u001B[38;5;241;43m.\u001B[39;49m\u001B[43m_check_device_config_and_set_final_flags\u001B[49m\u001B[43m(\u001B[49m\u001B[43mdevices\u001B[49m\u001B[38;5;241;43m=\u001B[39;49m\u001B[43mdevices\u001B[49m\u001B[43m,\u001B[49m\u001B[43m \u001B[49m\u001B[43mnum_nodes\u001B[49m\u001B[38;5;241;43m=\u001B[39;49m\u001B[43mnum_nodes\u001B[49m\u001B[43m)\u001B[49m\n\u001B[1;32m    147\u001B[0m \u001B[38;5;28mself\u001B[39m\u001B[38;5;241m.\u001B[39m_set_parallel_devices_and_init_accelerator()\n",
      "File \u001B[0;32m/opt/anaconda3/envs/Topotein/lib/python3.10/site-packages/lightning/pytorch/trainer/connectors/accelerator_connector.py:327\u001B[0m, in \u001B[0;36m_AcceleratorConnector._check_device_config_and_set_final_flags\u001B[0;34m(self, devices, num_nodes)\u001B[0m\n\u001B[1;32m    322\u001B[0m accelerator_name \u001B[38;5;241m=\u001B[39m (\n\u001B[1;32m    323\u001B[0m     \u001B[38;5;28mself\u001B[39m\u001B[38;5;241m.\u001B[39m_accelerator_flag\u001B[38;5;241m.\u001B[39m\u001B[38;5;18m__class__\u001B[39m\u001B[38;5;241m.\u001B[39m\u001B[38;5;18m__qualname__\u001B[39m\n\u001B[1;32m    324\u001B[0m     \u001B[38;5;28;01mif\u001B[39;00m \u001B[38;5;28misinstance\u001B[39m(\u001B[38;5;28mself\u001B[39m\u001B[38;5;241m.\u001B[39m_accelerator_flag, Accelerator)\n\u001B[1;32m    325\u001B[0m     \u001B[38;5;28;01melse\u001B[39;00m \u001B[38;5;28mself\u001B[39m\u001B[38;5;241m.\u001B[39m_accelerator_flag\n\u001B[1;32m    326\u001B[0m )\n\u001B[0;32m--> 327\u001B[0m \u001B[38;5;28;01mraise\u001B[39;00m MisconfigurationException(\n\u001B[1;32m    328\u001B[0m     \u001B[38;5;124mf\u001B[39m\u001B[38;5;124m\"\u001B[39m\u001B[38;5;124m`Trainer(devices=\u001B[39m\u001B[38;5;132;01m{\u001B[39;00m\u001B[38;5;28mself\u001B[39m\u001B[38;5;241m.\u001B[39m_devices_flag\u001B[38;5;132;01m!r}\u001B[39;00m\u001B[38;5;124m)` value is not a valid input\u001B[39m\u001B[38;5;124m\"\u001B[39m\n\u001B[1;32m    329\u001B[0m     \u001B[38;5;124mf\u001B[39m\u001B[38;5;124m\"\u001B[39m\u001B[38;5;124m using \u001B[39m\u001B[38;5;132;01m{\u001B[39;00maccelerator_name\u001B[38;5;132;01m}\u001B[39;00m\u001B[38;5;124m accelerator.\u001B[39m\u001B[38;5;124m\"\u001B[39m\n\u001B[1;32m    330\u001B[0m )\n",
      "\u001B[0;31mMisconfigurationException\u001B[0m: `Trainer(devices=0)` value is not a valid input using mps accelerator.",
      "\nThe above exception was the direct cause of the following exception:\n",
      "\u001B[0;31mInstantiationException\u001B[0m                    Traceback (most recent call last)",
      "Cell \u001B[0;32mIn[8], line 4\u001B[0m\n\u001B[1;32m      1\u001B[0m \u001B[38;5;28;01mfrom\u001B[39;00m \u001B[38;5;21;01mproteinworkshop\u001B[39;00m\u001B[38;5;21;01m.\u001B[39;00m\u001B[38;5;21;01mfinetune\u001B[39;00m \u001B[38;5;28;01mimport\u001B[39;00m finetune\n\u001B[1;32m      2\u001B[0m \u001B[38;5;28;01mfrom\u001B[39;00m \u001B[38;5;21;01mproteinworkshop\u001B[39;00m\u001B[38;5;21;01m.\u001B[39;00m\u001B[38;5;21;01mtrain\u001B[39;00m \u001B[38;5;28;01mimport\u001B[39;00m train_model\n\u001B[0;32m----> 4\u001B[0m \u001B[43mtrain_model\u001B[49m\u001B[43m(\u001B[49m\u001B[43mcfg\u001B[49m\u001B[43m)\u001B[49m\n",
      "File \u001B[0;32m~/PycharmProjects/Topotein/ProteinWorkshop/proteinworkshop/train.py:115\u001B[0m, in \u001B[0;36mtrain_model\u001B[0;34m(cfg, encoder)\u001B[0m\n\u001B[1;32m    112\u001B[0m logger: List[Logger] \u001B[38;5;241m=\u001B[39m utils\u001B[38;5;241m.\u001B[39mloggers\u001B[38;5;241m.\u001B[39minstantiate_loggers(cfg\u001B[38;5;241m.\u001B[39mget(\u001B[38;5;124m\"\u001B[39m\u001B[38;5;124mlogger\u001B[39m\u001B[38;5;124m\"\u001B[39m))\n\u001B[1;32m    114\u001B[0m log\u001B[38;5;241m.\u001B[39minfo(\u001B[38;5;124m\"\u001B[39m\u001B[38;5;124mInstantiating trainer...\u001B[39m\u001B[38;5;124m\"\u001B[39m)\n\u001B[0;32m--> 115\u001B[0m trainer: L\u001B[38;5;241m.\u001B[39mTrainer \u001B[38;5;241m=\u001B[39m \u001B[43mhydra\u001B[49m\u001B[38;5;241;43m.\u001B[39;49m\u001B[43mutils\u001B[49m\u001B[38;5;241;43m.\u001B[39;49m\u001B[43minstantiate\u001B[49m\u001B[43m(\u001B[49m\n\u001B[1;32m    116\u001B[0m \u001B[43m    \u001B[49m\u001B[43mcfg\u001B[49m\u001B[38;5;241;43m.\u001B[39;49m\u001B[43mtrainer\u001B[49m\u001B[43m,\u001B[49m\u001B[43m \u001B[49m\u001B[43mcallbacks\u001B[49m\u001B[38;5;241;43m=\u001B[39;49m\u001B[43mcallbacks\u001B[49m\u001B[43m,\u001B[49m\u001B[43m \u001B[49m\u001B[43mlogger\u001B[49m\u001B[38;5;241;43m=\u001B[39;49m\u001B[43mlogger\u001B[49m\n\u001B[1;32m    117\u001B[0m \u001B[43m\u001B[49m\u001B[43m)\u001B[49m\n\u001B[1;32m    119\u001B[0m \u001B[38;5;28;01mif\u001B[39;00m cfg\u001B[38;5;241m.\u001B[39mget(\u001B[38;5;124m\"\u001B[39m\u001B[38;5;124mscheduler\u001B[39m\u001B[38;5;124m\"\u001B[39m):\n\u001B[1;32m    120\u001B[0m     \u001B[38;5;28;01mif\u001B[39;00m (\n\u001B[1;32m    121\u001B[0m         cfg\u001B[38;5;241m.\u001B[39mscheduler\u001B[38;5;241m.\u001B[39mscheduler\u001B[38;5;241m.\u001B[39m_target_\n\u001B[1;32m    122\u001B[0m         \u001B[38;5;241m==\u001B[39m \u001B[38;5;124m\"\u001B[39m\u001B[38;5;124mflash.core.optimizers.LinearWarmupCosineAnnealingLR\u001B[39m\u001B[38;5;124m\"\u001B[39m\n\u001B[1;32m    123\u001B[0m         \u001B[38;5;129;01mand\u001B[39;00m cfg\u001B[38;5;241m.\u001B[39mscheduler\u001B[38;5;241m.\u001B[39minterval \u001B[38;5;241m==\u001B[39m \u001B[38;5;124m\"\u001B[39m\u001B[38;5;124mstep\u001B[39m\u001B[38;5;124m\"\u001B[39m\n\u001B[1;32m    124\u001B[0m     ):\n",
      "File \u001B[0;32m/opt/anaconda3/envs/Topotein/lib/python3.10/site-packages/hydra/_internal/instantiate/_instantiate2.py:226\u001B[0m, in \u001B[0;36minstantiate\u001B[0;34m(config, *args, **kwargs)\u001B[0m\n\u001B[1;32m    223\u001B[0m     _convert_ \u001B[38;5;241m=\u001B[39m config\u001B[38;5;241m.\u001B[39mpop(_Keys\u001B[38;5;241m.\u001B[39mCONVERT, ConvertMode\u001B[38;5;241m.\u001B[39mNONE)\n\u001B[1;32m    224\u001B[0m     _partial_ \u001B[38;5;241m=\u001B[39m config\u001B[38;5;241m.\u001B[39mpop(_Keys\u001B[38;5;241m.\u001B[39mPARTIAL, \u001B[38;5;28;01mFalse\u001B[39;00m)\n\u001B[0;32m--> 226\u001B[0m     \u001B[38;5;28;01mreturn\u001B[39;00m \u001B[43minstantiate_node\u001B[49m\u001B[43m(\u001B[49m\n\u001B[1;32m    227\u001B[0m \u001B[43m        \u001B[49m\u001B[43mconfig\u001B[49m\u001B[43m,\u001B[49m\u001B[43m \u001B[49m\u001B[38;5;241;43m*\u001B[39;49m\u001B[43margs\u001B[49m\u001B[43m,\u001B[49m\u001B[43m \u001B[49m\u001B[43mrecursive\u001B[49m\u001B[38;5;241;43m=\u001B[39;49m\u001B[43m_recursive_\u001B[49m\u001B[43m,\u001B[49m\u001B[43m \u001B[49m\u001B[43mconvert\u001B[49m\u001B[38;5;241;43m=\u001B[39;49m\u001B[43m_convert_\u001B[49m\u001B[43m,\u001B[49m\u001B[43m \u001B[49m\u001B[43mpartial\u001B[49m\u001B[38;5;241;43m=\u001B[39;49m\u001B[43m_partial_\u001B[49m\n\u001B[1;32m    228\u001B[0m \u001B[43m    \u001B[49m\u001B[43m)\u001B[49m\n\u001B[1;32m    229\u001B[0m \u001B[38;5;28;01melif\u001B[39;00m OmegaConf\u001B[38;5;241m.\u001B[39mis_list(config):\n\u001B[1;32m    230\u001B[0m     \u001B[38;5;66;03m# Finalize config (convert targets to strings, merge with kwargs)\u001B[39;00m\n\u001B[1;32m    231\u001B[0m     config_copy \u001B[38;5;241m=\u001B[39m copy\u001B[38;5;241m.\u001B[39mdeepcopy(config)\n",
      "File \u001B[0;32m/opt/anaconda3/envs/Topotein/lib/python3.10/site-packages/hydra/_internal/instantiate/_instantiate2.py:347\u001B[0m, in \u001B[0;36minstantiate_node\u001B[0;34m(node, convert, recursive, partial, *args)\u001B[0m\n\u001B[1;32m    342\u001B[0m                 value \u001B[38;5;241m=\u001B[39m instantiate_node(\n\u001B[1;32m    343\u001B[0m                     value, convert\u001B[38;5;241m=\u001B[39mconvert, recursive\u001B[38;5;241m=\u001B[39mrecursive\n\u001B[1;32m    344\u001B[0m                 )\n\u001B[1;32m    345\u001B[0m             kwargs[key] \u001B[38;5;241m=\u001B[39m _convert_node(value, convert)\n\u001B[0;32m--> 347\u001B[0m     \u001B[38;5;28;01mreturn\u001B[39;00m \u001B[43m_call_target\u001B[49m\u001B[43m(\u001B[49m\u001B[43m_target_\u001B[49m\u001B[43m,\u001B[49m\u001B[43m \u001B[49m\u001B[43mpartial\u001B[49m\u001B[43m,\u001B[49m\u001B[43m \u001B[49m\u001B[43margs\u001B[49m\u001B[43m,\u001B[49m\u001B[43m \u001B[49m\u001B[43mkwargs\u001B[49m\u001B[43m,\u001B[49m\u001B[43m \u001B[49m\u001B[43mfull_key\u001B[49m\u001B[43m)\u001B[49m\n\u001B[1;32m    348\u001B[0m \u001B[38;5;28;01melse\u001B[39;00m:\n\u001B[1;32m    349\u001B[0m     \u001B[38;5;66;03m# If ALL or PARTIAL non structured or OBJECT non structured,\u001B[39;00m\n\u001B[1;32m    350\u001B[0m     \u001B[38;5;66;03m# instantiate in dict and resolve interpolations eagerly.\u001B[39;00m\n\u001B[1;32m    351\u001B[0m     \u001B[38;5;28;01mif\u001B[39;00m convert \u001B[38;5;241m==\u001B[39m ConvertMode\u001B[38;5;241m.\u001B[39mALL \u001B[38;5;129;01mor\u001B[39;00m (\n\u001B[1;32m    352\u001B[0m         convert \u001B[38;5;129;01min\u001B[39;00m (ConvertMode\u001B[38;5;241m.\u001B[39mPARTIAL, ConvertMode\u001B[38;5;241m.\u001B[39mOBJECT)\n\u001B[1;32m    353\u001B[0m         \u001B[38;5;129;01mand\u001B[39;00m node\u001B[38;5;241m.\u001B[39m_metadata\u001B[38;5;241m.\u001B[39mobject_type \u001B[38;5;129;01min\u001B[39;00m (\u001B[38;5;28;01mNone\u001B[39;00m, \u001B[38;5;28mdict\u001B[39m)\n\u001B[1;32m    354\u001B[0m     ):\n",
      "File \u001B[0;32m/opt/anaconda3/envs/Topotein/lib/python3.10/site-packages/hydra/_internal/instantiate/_instantiate2.py:97\u001B[0m, in \u001B[0;36m_call_target\u001B[0;34m(_target_, _partial_, args, kwargs, full_key)\u001B[0m\n\u001B[1;32m     95\u001B[0m \u001B[38;5;28;01mif\u001B[39;00m full_key:\n\u001B[1;32m     96\u001B[0m     msg \u001B[38;5;241m+\u001B[39m\u001B[38;5;241m=\u001B[39m \u001B[38;5;124mf\u001B[39m\u001B[38;5;124m\"\u001B[39m\u001B[38;5;130;01m\\n\u001B[39;00m\u001B[38;5;124mfull_key: \u001B[39m\u001B[38;5;132;01m{\u001B[39;00mfull_key\u001B[38;5;132;01m}\u001B[39;00m\u001B[38;5;124m\"\u001B[39m\n\u001B[0;32m---> 97\u001B[0m \u001B[38;5;28;01mraise\u001B[39;00m InstantiationException(msg) \u001B[38;5;28;01mfrom\u001B[39;00m \u001B[38;5;21;01me\u001B[39;00m\n",
      "\u001B[0;31mInstantiationException\u001B[0m: Error in call to target 'lightning.pytorch.trainer.trainer.Trainer':\nMisconfigurationException('`Trainer(devices=0)` value is not a valid input using mps accelerator.')\nfull_key: trainer"
     ]
    }
   ],
   "execution_count": 8
  },
  {
   "cell_type": "markdown",
   "metadata": {},
   "source": [
    "### 4. Reconfigure the selected dataset to use e.g., side-chain atom context"
   ]
  },
  {
   "cell_type": "code",
   "metadata": {
    "ExecuteTime": {
     "end_time": "2025-01-26T14:32:33.873878Z",
     "start_time": "2025-01-26T14:32:33.707208Z"
    }
   },
   "source": [
    "version_base = \"1.2\"  # Note: Need to update whenever Hydra is upgraded\n",
    "init_hydra_singleton(reload=True, version_base=version_base)\n",
    "\n",
    "path = HYDRA_CONFIG_PATH\n",
    "rel_path = os.path.relpath(path, start=\".\")\n",
    "\n",
    "GlobalHydra.instance().clear()\n",
    "hydra.initialize(rel_path, version_base=version_base)\n",
    "\n",
    "cfg = hydra.compose(\n",
    "    config_name=\"train\",\n",
    "    overrides=[\n",
    "        \"encoder=schnet\",\n",
    "        \"task=sequence_denoising\",\n",
    "        \"dataset=cath\",\n",
    "        \"features=ca_sc\",\n",
    "        \"+aux_task=none\",\n",
    "    ],\n",
    "    return_hydra_config=True,\n",
    ")\n",
    "\n",
    "# Note: Customize as needed e.g., when running a sweep\n",
    "cfg.hydra.job.num = 0\n",
    "cfg.hydra.job.id = 0\n",
    "cfg.hydra.hydra_help.hydra_help = False\n",
    "cfg.hydra.runtime.output_dir = \"outputs\"\n",
    "\n",
    "HydraConfig.instance().set_config(cfg)"
   ],
   "outputs": [
    {
     "data": {
      "text/plain": [
       "\u001B[2;36m[01/26/25 14:32:33]\u001B[0m\u001B[2;36m \u001B[0m\u001B[34mINFO    \u001B[0m Hydra singleton cleared and ready to re-initialise.                     \u001B]8;id=834942;file:///Users/dricpro/PycharmProjects/Topotein/ProteinWorkshop/proteinworkshop/utils/notebook.py\u001B\\\u001B[2mnotebook.py\u001B[0m\u001B]8;;\u001B\\\u001B[2m:\u001B[0m\u001B]8;id=443049;file:///Users/dricpro/PycharmProjects/Topotein/ProteinWorkshop/proteinworkshop/utils/notebook.py#66\u001B\\\u001B[2m66\u001B[0m\u001B]8;;\u001B\\\n"
      ],
      "text/html": [
       "<pre style=\"white-space:pre;overflow-x:auto;line-height:normal;font-family:Menlo,'DejaVu Sans Mono',consolas,'Courier New',monospace\"><span style=\"color: #7fbfbf; text-decoration-color: #7fbfbf\">[01/26/25 14:32:33] </span><span style=\"color: #000080; text-decoration-color: #000080\">INFO    </span> Hydra singleton cleared and ready to re-initialise.                     <a href=\"file:///Users/dricpro/PycharmProjects/Topotein/ProteinWorkshop/proteinworkshop/utils/notebook.py\" target=\"_blank\"><span style=\"color: #7f7f7f; text-decoration-color: #7f7f7f\">notebook.py</span></a><span style=\"color: #7f7f7f; text-decoration-color: #7f7f7f\">:</span><a href=\"file:///Users/dricpro/PycharmProjects/Topotein/ProteinWorkshop/proteinworkshop/utils/notebook.py#66\" target=\"_blank\"><span style=\"color: #7f7f7f; text-decoration-color: #7f7f7f\">66</span></a>\n",
       "</pre>\n"
      ]
     },
     "metadata": {},
     "output_type": "display_data"
    },
    {
     "data": {
      "text/plain": [
       "\u001B[2;36m                   \u001B[0m\u001B[2;36m \u001B[0m\u001B[34mINFO    \u001B[0m Hydra initialised at                                                    \u001B]8;id=347205;file:///Users/dricpro/PycharmProjects/Topotein/ProteinWorkshop/proteinworkshop/utils/notebook.py\u001B\\\u001B[2mnotebook.py\u001B[0m\u001B]8;;\u001B\\\u001B[2m:\u001B[0m\u001B]8;id=839408;file:///Users/dricpro/PycharmProjects/Topotein/ProteinWorkshop/proteinworkshop/utils/notebook.py#53\u001B\\\u001B[2m53\u001B[0m\u001B]8;;\u001B\\\n",
       "\u001B[2;36m                    \u001B[0m         \u001B[35m/Users/dricpro/PycharmProjects/Topotein/ProteinWorkshop/proteinworkshop\u001B[0m \u001B[2m              \u001B[0m\n",
       "\u001B[2;36m                    \u001B[0m         \u001B[35m/\u001B[0m\u001B[95mconfig.\u001B[0m                                                                \u001B[2m              \u001B[0m\n"
      ],
      "text/html": [
       "<pre style=\"white-space:pre;overflow-x:auto;line-height:normal;font-family:Menlo,'DejaVu Sans Mono',consolas,'Courier New',monospace\"><span style=\"color: #7fbfbf; text-decoration-color: #7fbfbf\">                    </span><span style=\"color: #000080; text-decoration-color: #000080\">INFO    </span> Hydra initialised at                                                    <a href=\"file:///Users/dricpro/PycharmProjects/Topotein/ProteinWorkshop/proteinworkshop/utils/notebook.py\" target=\"_blank\"><span style=\"color: #7f7f7f; text-decoration-color: #7f7f7f\">notebook.py</span></a><span style=\"color: #7f7f7f; text-decoration-color: #7f7f7f\">:</span><a href=\"file:///Users/dricpro/PycharmProjects/Topotein/ProteinWorkshop/proteinworkshop/utils/notebook.py#53\" target=\"_blank\"><span style=\"color: #7f7f7f; text-decoration-color: #7f7f7f\">53</span></a>\n",
       "<span style=\"color: #7fbfbf; text-decoration-color: #7fbfbf\">                    </span>         <span style=\"color: #800080; text-decoration-color: #800080\">/Users/dricpro/PycharmProjects/Topotein/ProteinWorkshop/proteinworkshop</span> <span style=\"color: #7f7f7f; text-decoration-color: #7f7f7f\">              </span>\n",
       "<span style=\"color: #7fbfbf; text-decoration-color: #7fbfbf\">                    </span>         <span style=\"color: #800080; text-decoration-color: #800080\">/</span><span style=\"color: #ff00ff; text-decoration-color: #ff00ff\">config.</span>                                                                <span style=\"color: #7f7f7f; text-decoration-color: #7f7f7f\">              </span>\n",
       "</pre>\n"
      ]
     },
     "metadata": {},
     "output_type": "display_data"
    }
   ],
   "execution_count": 6
  },
  {
   "cell_type": "markdown",
   "metadata": {},
   "source": [
    "### 5. Verify that e.g., side-chain torsions are now available as feature inputs"
   ]
  },
  {
   "cell_type": "code",
   "metadata": {
    "ExecuteTime": {
     "end_time": "2025-01-26T14:32:35.658555Z",
     "start_time": "2025-01-26T14:32:35.447095Z"
    }
   },
   "source": [
    "from proteinworkshop.configs import config\n",
    "\n",
    "cfg = config.validate_config(cfg)\n",
    "\n",
    "datamodule = hydra.utils.instantiate(cfg)\n",
    "datamodule.setup(\"fit\")\n",
    "dl = datamodule.train_dataloader()\n",
    "\n",
    "for i in dl:\n",
    "    print(i)\n",
    "    break"
   ],
   "outputs": [
    {
     "data": {
      "text/plain": [
       "\u001B[2;36m[01/26/25 14:32:35]\u001B[0m\u001B[2;36m \u001B[0m\u001B[32mDEBUG   \u001B[0m Requested CPUs: \u001B[1;36m16\u001B[0m. Avialable CPUs \u001B[1m(\u001B[0mphysical\u001B[1m)\u001B[0m: \u001B[1;36m12\u001B[0m. Requested CPU count   \u001B]8;id=167728;file:///Users/dricpro/PycharmProjects/Topotein/ProteinWorkshop/proteinworkshop/configs/config.py\u001B\\\u001B[2mconfig.py\u001B[0m\u001B]8;;\u001B\\\u001B[2m:\u001B[0m\u001B]8;id=356436;file:///Users/dricpro/PycharmProjects/Topotein/ProteinWorkshop/proteinworkshop/configs/config.py#312\u001B\\\u001B[2m312\u001B[0m\u001B]8;;\u001B\\\n",
       "\u001B[2;36m                    \u001B[0m         will therefore be set to maximum number ofavailable physical cores.      \u001B[2m             \u001B[0m\n",
       "\u001B[2;36m                    \u001B[0m         NOTE: It is recommended to use N-1cores or less to avoid memory flush    \u001B[2m             \u001B[0m\n",
       "\u001B[2;36m                    \u001B[0m         overheads.                                                               \u001B[2m             \u001B[0m\n"
      ],
      "text/html": [
       "<pre style=\"white-space:pre;overflow-x:auto;line-height:normal;font-family:Menlo,'DejaVu Sans Mono',consolas,'Courier New',monospace\"><span style=\"color: #7fbfbf; text-decoration-color: #7fbfbf\">[01/26/25 14:32:35] </span><span style=\"color: #008000; text-decoration-color: #008000\">DEBUG   </span> Requested CPUs: <span style=\"color: #008080; text-decoration-color: #008080; font-weight: bold\">16</span>. Avialable CPUs <span style=\"font-weight: bold\">(</span>physical<span style=\"font-weight: bold\">)</span>: <span style=\"color: #008080; text-decoration-color: #008080; font-weight: bold\">12</span>. Requested CPU count   <a href=\"file:///Users/dricpro/PycharmProjects/Topotein/ProteinWorkshop/proteinworkshop/configs/config.py\" target=\"_blank\"><span style=\"color: #7f7f7f; text-decoration-color: #7f7f7f\">config.py</span></a><span style=\"color: #7f7f7f; text-decoration-color: #7f7f7f\">:</span><a href=\"file:///Users/dricpro/PycharmProjects/Topotein/ProteinWorkshop/proteinworkshop/configs/config.py#312\" target=\"_blank\"><span style=\"color: #7f7f7f; text-decoration-color: #7f7f7f\">312</span></a>\n",
       "<span style=\"color: #7fbfbf; text-decoration-color: #7fbfbf\">                    </span>         will therefore be set to maximum number ofavailable physical cores.      <span style=\"color: #7f7f7f; text-decoration-color: #7f7f7f\">             </span>\n",
       "<span style=\"color: #7fbfbf; text-decoration-color: #7fbfbf\">                    </span>         NOTE: It is recommended to use N-1cores or less to avoid memory flush    <span style=\"color: #7f7f7f; text-decoration-color: #7f7f7f\">             </span>\n",
       "<span style=\"color: #7fbfbf; text-decoration-color: #7fbfbf\">                    </span>         overheads.                                                               <span style=\"color: #7f7f7f; text-decoration-color: #7f7f7f\">             </span>\n",
       "</pre>\n"
      ]
     },
     "metadata": {},
     "output_type": "display_data"
    },
    {
     "data": {
      "text/plain": [
       "\u001B[2;36m                   \u001B[0m\u001B[2;36m \u001B[0m\u001B[32mDEBUG   \u001B[0m CUDA available: \u001B[3;91mFalse\u001B[0m                                                    \u001B]8;id=524790;file:///Users/dricpro/PycharmProjects/Topotein/ProteinWorkshop/proteinworkshop/configs/config.py\u001B\\\u001B[2mconfig.py\u001B[0m\u001B]8;;\u001B\\\u001B[2m:\u001B[0m\u001B]8;id=670361;file:///Users/dricpro/PycharmProjects/Topotein/ProteinWorkshop/proteinworkshop/configs/config.py#247\u001B\\\u001B[2m247\u001B[0m\u001B]8;;\u001B\\\n"
      ],
      "text/html": [
       "<pre style=\"white-space:pre;overflow-x:auto;line-height:normal;font-family:Menlo,'DejaVu Sans Mono',consolas,'Courier New',monospace\"><span style=\"color: #7fbfbf; text-decoration-color: #7fbfbf\">                    </span><span style=\"color: #008000; text-decoration-color: #008000\">DEBUG   </span> CUDA available: <span style=\"color: #ff0000; text-decoration-color: #ff0000; font-style: italic\">False</span>                                                    <a href=\"file:///Users/dricpro/PycharmProjects/Topotein/ProteinWorkshop/proteinworkshop/configs/config.py\" target=\"_blank\"><span style=\"color: #7f7f7f; text-decoration-color: #7f7f7f\">config.py</span></a><span style=\"color: #7f7f7f; text-decoration-color: #7f7f7f\">:</span><a href=\"file:///Users/dricpro/PycharmProjects/Topotein/ProteinWorkshop/proteinworkshop/configs/config.py#247\" target=\"_blank\"><span style=\"color: #7f7f7f; text-decoration-color: #7f7f7f\">247</span></a>\n",
       "</pre>\n"
      ]
     },
     "metadata": {},
     "output_type": "display_data"
    },
    {
     "data": {
      "text/plain": [
       "\u001B[2;36m                   \u001B[0m\u001B[2;36m \u001B[0m\u001B[32mDEBUG   \u001B[0m Requested GPUs: \u001B[1;36m1\u001B[0m.                                                       \u001B]8;id=116477;file:///Users/dricpro/PycharmProjects/Topotein/ProteinWorkshop/proteinworkshop/configs/config.py\u001B\\\u001B[2mconfig.py\u001B[0m\u001B]8;;\u001B\\\u001B[2m:\u001B[0m\u001B]8;id=353696;file:///Users/dricpro/PycharmProjects/Topotein/ProteinWorkshop/proteinworkshop/configs/config.py#248\u001B\\\u001B[2m248\u001B[0m\u001B]8;;\u001B\\\n"
      ],
      "text/html": [
       "<pre style=\"white-space:pre;overflow-x:auto;line-height:normal;font-family:Menlo,'DejaVu Sans Mono',consolas,'Courier New',monospace\"><span style=\"color: #7fbfbf; text-decoration-color: #7fbfbf\">                    </span><span style=\"color: #008000; text-decoration-color: #008000\">DEBUG   </span> Requested GPUs: <span style=\"color: #008080; text-decoration-color: #008080; font-weight: bold\">1</span>.                                                       <a href=\"file:///Users/dricpro/PycharmProjects/Topotein/ProteinWorkshop/proteinworkshop/configs/config.py\" target=\"_blank\"><span style=\"color: #7f7f7f; text-decoration-color: #7f7f7f\">config.py</span></a><span style=\"color: #7f7f7f; text-decoration-color: #7f7f7f\">:</span><a href=\"file:///Users/dricpro/PycharmProjects/Topotein/ProteinWorkshop/proteinworkshop/configs/config.py#248\" target=\"_blank\"><span style=\"color: #7f7f7f; text-decoration-color: #7f7f7f\">248</span></a>\n",
       "</pre>\n"
      ]
     },
     "metadata": {},
     "output_type": "display_data"
    },
    {
     "data": {
      "text/plain": [
       "\u001B[2;36m                   \u001B[0m\u001B[2;36m \u001B[0m\u001B[32mDEBUG   \u001B[0m GPU count set to: \u001B[1;36m0\u001B[0m                                                      \u001B]8;id=459724;file:///Users/dricpro/PycharmProjects/Topotein/ProteinWorkshop/proteinworkshop/configs/config.py\u001B\\\u001B[2mconfig.py\u001B[0m\u001B]8;;\u001B\\\u001B[2m:\u001B[0m\u001B]8;id=65648;file:///Users/dricpro/PycharmProjects/Topotein/ProteinWorkshop/proteinworkshop/configs/config.py#253\u001B\\\u001B[2m253\u001B[0m\u001B]8;;\u001B\\\n"
      ],
      "text/html": [
       "<pre style=\"white-space:pre;overflow-x:auto;line-height:normal;font-family:Menlo,'DejaVu Sans Mono',consolas,'Courier New',monospace\"><span style=\"color: #7fbfbf; text-decoration-color: #7fbfbf\">                    </span><span style=\"color: #008000; text-decoration-color: #008000\">DEBUG   </span> GPU count set to: <span style=\"color: #008080; text-decoration-color: #008080; font-weight: bold\">0</span>                                                      <a href=\"file:///Users/dricpro/PycharmProjects/Topotein/ProteinWorkshop/proteinworkshop/configs/config.py\" target=\"_blank\"><span style=\"color: #7f7f7f; text-decoration-color: #7f7f7f\">config.py</span></a><span style=\"color: #7f7f7f; text-decoration-color: #7f7f7f\">:</span><a href=\"file:///Users/dricpro/PycharmProjects/Topotein/ProteinWorkshop/proteinworkshop/configs/config.py#253\" target=\"_blank\"><span style=\"color: #7f7f7f; text-decoration-color: #7f7f7f\">253</span></a>\n",
       "</pre>\n"
      ]
     },
     "metadata": {},
     "output_type": "display_data"
    },
    {
     "data": {
      "text/plain": [
       "\u001B[2;36m                   \u001B[0m\u001B[2;36m \u001B[0m\u001B[33mWARNING \u001B[0m You are not using early stopping.                                        \u001B]8;id=718357;file:///Users/dricpro/PycharmProjects/Topotein/ProteinWorkshop/proteinworkshop/configs/config.py\u001B\\\u001B[2mconfig.py\u001B[0m\u001B]8;;\u001B\\\u001B[2m:\u001B[0m\u001B]8;id=685029;file:///Users/dricpro/PycharmProjects/Topotein/ProteinWorkshop/proteinworkshop/configs/config.py#164\u001B\\\u001B[2m164\u001B[0m\u001B]8;;\u001B\\\n"
      ],
      "text/html": [
       "<pre style=\"white-space:pre;overflow-x:auto;line-height:normal;font-family:Menlo,'DejaVu Sans Mono',consolas,'Courier New',monospace\"><span style=\"color: #7fbfbf; text-decoration-color: #7fbfbf\">                    </span><span style=\"color: #808000; text-decoration-color: #808000\">WARNING </span> You are not using early stopping.                                        <a href=\"file:///Users/dricpro/PycharmProjects/Topotein/ProteinWorkshop/proteinworkshop/configs/config.py\" target=\"_blank\"><span style=\"color: #7f7f7f; text-decoration-color: #7f7f7f\">config.py</span></a><span style=\"color: #7f7f7f; text-decoration-color: #7f7f7f\">:</span><a href=\"file:///Users/dricpro/PycharmProjects/Topotein/ProteinWorkshop/proteinworkshop/configs/config.py#164\" target=\"_blank\"><span style=\"color: #7f7f7f; text-decoration-color: #7f7f7f\">164</span></a>\n",
       "</pre>\n"
      ]
     },
     "metadata": {},
     "output_type": "display_data"
    },
    {
     "ename": "ReadonlyConfigError",
     "evalue": "Cannot set value of read-only config node",
     "output_type": "error",
     "traceback": [
      "\u001B[0;31m---------------------------------------------------------------------------\u001B[0m",
      "\u001B[0;31mReadonlyConfigError\u001B[0m                       Traceback (most recent call last)",
      "Cell \u001B[0;32mIn[7], line 5\u001B[0m\n\u001B[1;32m      1\u001B[0m \u001B[38;5;28;01mfrom\u001B[39;00m \u001B[38;5;21;01mproteinworkshop\u001B[39;00m\u001B[38;5;21;01m.\u001B[39;00m\u001B[38;5;21;01mconfigs\u001B[39;00m \u001B[38;5;28;01mimport\u001B[39;00m config\n\u001B[1;32m      3\u001B[0m cfg \u001B[38;5;241m=\u001B[39m config\u001B[38;5;241m.\u001B[39mvalidate_config(cfg)\n\u001B[0;32m----> 5\u001B[0m datamodule \u001B[38;5;241m=\u001B[39m \u001B[43mhydra\u001B[49m\u001B[38;5;241;43m.\u001B[39;49m\u001B[43mutils\u001B[49m\u001B[38;5;241;43m.\u001B[39;49m\u001B[43minstantiate\u001B[49m\u001B[43m(\u001B[49m\u001B[43mcfg\u001B[49m\u001B[43m)\u001B[49m\n\u001B[1;32m      6\u001B[0m datamodule\u001B[38;5;241m.\u001B[39msetup(\u001B[38;5;124m\"\u001B[39m\u001B[38;5;124mfit\u001B[39m\u001B[38;5;124m\"\u001B[39m)\n\u001B[1;32m      7\u001B[0m dl \u001B[38;5;241m=\u001B[39m datamodule\u001B[38;5;241m.\u001B[39mtrain_dataloader()\n",
      "File \u001B[0;32m/opt/anaconda3/envs/Topotein/lib/python3.10/site-packages/hydra/_internal/instantiate/_instantiate2.py:220\u001B[0m, in \u001B[0;36minstantiate\u001B[0;34m(config, *args, **kwargs)\u001B[0m\n\u001B[1;32m    217\u001B[0m \u001B[38;5;28;01mif\u001B[39;00m kwargs:\n\u001B[1;32m    218\u001B[0m     config \u001B[38;5;241m=\u001B[39m OmegaConf\u001B[38;5;241m.\u001B[39mmerge(config, kwargs)\n\u001B[0;32m--> 220\u001B[0m \u001B[43mOmegaConf\u001B[49m\u001B[38;5;241;43m.\u001B[39;49m\u001B[43mresolve\u001B[49m\u001B[43m(\u001B[49m\u001B[43mconfig\u001B[49m\u001B[43m)\u001B[49m\n\u001B[1;32m    222\u001B[0m _recursive_ \u001B[38;5;241m=\u001B[39m config\u001B[38;5;241m.\u001B[39mpop(_Keys\u001B[38;5;241m.\u001B[39mRECURSIVE, \u001B[38;5;28;01mTrue\u001B[39;00m)\n\u001B[1;32m    223\u001B[0m _convert_ \u001B[38;5;241m=\u001B[39m config\u001B[38;5;241m.\u001B[39mpop(_Keys\u001B[38;5;241m.\u001B[39mCONVERT, ConvertMode\u001B[38;5;241m.\u001B[39mNONE)\n",
      "File \u001B[0;32m/opt/anaconda3/envs/Topotein/lib/python3.10/site-packages/omegaconf/omegaconf.py:785\u001B[0m, in \u001B[0;36mOmegaConf.resolve\u001B[0;34m(cfg)\u001B[0m\n\u001B[1;32m    779\u001B[0m \u001B[38;5;28;01mif\u001B[39;00m \u001B[38;5;129;01mnot\u001B[39;00m OmegaConf\u001B[38;5;241m.\u001B[39mis_config(cfg):\n\u001B[1;32m    780\u001B[0m     \u001B[38;5;66;03m# Since this function is mutating the input object in-place, it doesn't make sense to\u001B[39;00m\n\u001B[1;32m    781\u001B[0m     \u001B[38;5;66;03m# auto-convert the input object to an OmegaConf container\u001B[39;00m\n\u001B[1;32m    782\u001B[0m     \u001B[38;5;28;01mraise\u001B[39;00m \u001B[38;5;167;01mValueError\u001B[39;00m(\n\u001B[1;32m    783\u001B[0m         \u001B[38;5;124mf\u001B[39m\u001B[38;5;124m\"\u001B[39m\u001B[38;5;124mInvalid config type (\u001B[39m\u001B[38;5;132;01m{\u001B[39;00m\u001B[38;5;28mtype\u001B[39m(cfg)\u001B[38;5;241m.\u001B[39m\u001B[38;5;18m__name__\u001B[39m\u001B[38;5;132;01m}\u001B[39;00m\u001B[38;5;124m), expected an OmegaConf Container\u001B[39m\u001B[38;5;124m\"\u001B[39m\n\u001B[1;32m    784\u001B[0m     )\n\u001B[0;32m--> 785\u001B[0m \u001B[43momegaconf\u001B[49m\u001B[38;5;241;43m.\u001B[39;49m\u001B[43m_impl\u001B[49m\u001B[38;5;241;43m.\u001B[39;49m\u001B[43m_resolve\u001B[49m\u001B[43m(\u001B[49m\u001B[43mcfg\u001B[49m\u001B[43m)\u001B[49m\n",
      "File \u001B[0;32m/opt/anaconda3/envs/Topotein/lib/python3.10/site-packages/omegaconf/_impl.py:40\u001B[0m, in \u001B[0;36m_resolve\u001B[0;34m(cfg)\u001B[0m\n\u001B[1;32m     38\u001B[0m \u001B[38;5;28;01mif\u001B[39;00m \u001B[38;5;28misinstance\u001B[39m(cfg, DictConfig):\n\u001B[1;32m     39\u001B[0m     \u001B[38;5;28;01mfor\u001B[39;00m k \u001B[38;5;129;01min\u001B[39;00m cfg\u001B[38;5;241m.\u001B[39mkeys():\n\u001B[0;32m---> 40\u001B[0m         \u001B[43m_resolve_container_value\u001B[49m\u001B[43m(\u001B[49m\u001B[43mcfg\u001B[49m\u001B[43m,\u001B[49m\u001B[43m \u001B[49m\u001B[43mk\u001B[49m\u001B[43m)\u001B[49m\n\u001B[1;32m     42\u001B[0m \u001B[38;5;28;01melif\u001B[39;00m \u001B[38;5;28misinstance\u001B[39m(cfg, ListConfig):\n\u001B[1;32m     43\u001B[0m     \u001B[38;5;28;01mfor\u001B[39;00m i \u001B[38;5;129;01min\u001B[39;00m \u001B[38;5;28mrange\u001B[39m(\u001B[38;5;28mlen\u001B[39m(cfg)):\n",
      "File \u001B[0;32m/opt/anaconda3/envs/Topotein/lib/python3.10/site-packages/omegaconf/_impl.py:25\u001B[0m, in \u001B[0;36m_resolve_container_value\u001B[0;34m(cfg, key)\u001B[0m\n\u001B[1;32m     23\u001B[0m             node\u001B[38;5;241m.\u001B[39m_set_value(_get_value(resolved))\n\u001B[1;32m     24\u001B[0m \u001B[38;5;28;01melse\u001B[39;00m:\n\u001B[0;32m---> 25\u001B[0m     \u001B[43m_resolve\u001B[49m\u001B[43m(\u001B[49m\u001B[43mnode\u001B[49m\u001B[43m)\u001B[49m\n",
      "File \u001B[0;32m/opt/anaconda3/envs/Topotein/lib/python3.10/site-packages/omegaconf/_impl.py:40\u001B[0m, in \u001B[0;36m_resolve\u001B[0;34m(cfg)\u001B[0m\n\u001B[1;32m     38\u001B[0m \u001B[38;5;28;01mif\u001B[39;00m \u001B[38;5;28misinstance\u001B[39m(cfg, DictConfig):\n\u001B[1;32m     39\u001B[0m     \u001B[38;5;28;01mfor\u001B[39;00m k \u001B[38;5;129;01min\u001B[39;00m cfg\u001B[38;5;241m.\u001B[39mkeys():\n\u001B[0;32m---> 40\u001B[0m         \u001B[43m_resolve_container_value\u001B[49m\u001B[43m(\u001B[49m\u001B[43mcfg\u001B[49m\u001B[43m,\u001B[49m\u001B[43m \u001B[49m\u001B[43mk\u001B[49m\u001B[43m)\u001B[49m\n\u001B[1;32m     42\u001B[0m \u001B[38;5;28;01melif\u001B[39;00m \u001B[38;5;28misinstance\u001B[39m(cfg, ListConfig):\n\u001B[1;32m     43\u001B[0m     \u001B[38;5;28;01mfor\u001B[39;00m i \u001B[38;5;129;01min\u001B[39;00m \u001B[38;5;28mrange\u001B[39m(\u001B[38;5;28mlen\u001B[39m(cfg)):\n",
      "File \u001B[0;32m/opt/anaconda3/envs/Topotein/lib/python3.10/site-packages/omegaconf/_impl.py:25\u001B[0m, in \u001B[0;36m_resolve_container_value\u001B[0;34m(cfg, key)\u001B[0m\n\u001B[1;32m     23\u001B[0m             node\u001B[38;5;241m.\u001B[39m_set_value(_get_value(resolved))\n\u001B[1;32m     24\u001B[0m \u001B[38;5;28;01melse\u001B[39;00m:\n\u001B[0;32m---> 25\u001B[0m     \u001B[43m_resolve\u001B[49m\u001B[43m(\u001B[49m\u001B[43mnode\u001B[49m\u001B[43m)\u001B[49m\n",
      "File \u001B[0;32m/opt/anaconda3/envs/Topotein/lib/python3.10/site-packages/omegaconf/_impl.py:40\u001B[0m, in \u001B[0;36m_resolve\u001B[0;34m(cfg)\u001B[0m\n\u001B[1;32m     38\u001B[0m \u001B[38;5;28;01mif\u001B[39;00m \u001B[38;5;28misinstance\u001B[39m(cfg, DictConfig):\n\u001B[1;32m     39\u001B[0m     \u001B[38;5;28;01mfor\u001B[39;00m k \u001B[38;5;129;01min\u001B[39;00m cfg\u001B[38;5;241m.\u001B[39mkeys():\n\u001B[0;32m---> 40\u001B[0m         \u001B[43m_resolve_container_value\u001B[49m\u001B[43m(\u001B[49m\u001B[43mcfg\u001B[49m\u001B[43m,\u001B[49m\u001B[43m \u001B[49m\u001B[43mk\u001B[49m\u001B[43m)\u001B[49m\n\u001B[1;32m     42\u001B[0m \u001B[38;5;28;01melif\u001B[39;00m \u001B[38;5;28misinstance\u001B[39m(cfg, ListConfig):\n\u001B[1;32m     43\u001B[0m     \u001B[38;5;28;01mfor\u001B[39;00m i \u001B[38;5;129;01min\u001B[39;00m \u001B[38;5;28mrange\u001B[39m(\u001B[38;5;28mlen\u001B[39m(cfg)):\n",
      "File \u001B[0;32m/opt/anaconda3/envs/Topotein/lib/python3.10/site-packages/omegaconf/_impl.py:23\u001B[0m, in \u001B[0;36m_resolve_container_value\u001B[0;34m(cfg, key)\u001B[0m\n\u001B[1;32m     21\u001B[0m             cfg[key] \u001B[38;5;241m=\u001B[39m resolved\n\u001B[1;32m     22\u001B[0m         \u001B[38;5;28;01melse\u001B[39;00m:\n\u001B[0;32m---> 23\u001B[0m             \u001B[43mnode\u001B[49m\u001B[38;5;241;43m.\u001B[39;49m\u001B[43m_set_value\u001B[49m\u001B[43m(\u001B[49m\u001B[43m_get_value\u001B[49m\u001B[43m(\u001B[49m\u001B[43mresolved\u001B[49m\u001B[43m)\u001B[49m\u001B[43m)\u001B[49m\n\u001B[1;32m     24\u001B[0m \u001B[38;5;28;01melse\u001B[39;00m:\n\u001B[1;32m     25\u001B[0m     _resolve(node)\n",
      "File \u001B[0;32m/opt/anaconda3/envs/Topotein/lib/python3.10/site-packages/omegaconf/nodes.py:36\u001B[0m, in \u001B[0;36mValueNode._set_value\u001B[0;34m(self, value, flags)\u001B[0m\n\u001B[1;32m     34\u001B[0m \u001B[38;5;28;01mdef\u001B[39;00m \u001B[38;5;21m_set_value\u001B[39m(\u001B[38;5;28mself\u001B[39m, value: Any, flags: Optional[Dict[\u001B[38;5;28mstr\u001B[39m, \u001B[38;5;28mbool\u001B[39m]] \u001B[38;5;241m=\u001B[39m \u001B[38;5;28;01mNone\u001B[39;00m) \u001B[38;5;241m-\u001B[39m\u001B[38;5;241m>\u001B[39m \u001B[38;5;28;01mNone\u001B[39;00m:\n\u001B[1;32m     35\u001B[0m     \u001B[38;5;28;01mif\u001B[39;00m \u001B[38;5;28mself\u001B[39m\u001B[38;5;241m.\u001B[39m_get_flag(\u001B[38;5;124m\"\u001B[39m\u001B[38;5;124mreadonly\u001B[39m\u001B[38;5;124m\"\u001B[39m):\n\u001B[0;32m---> 36\u001B[0m         \u001B[38;5;28;01mraise\u001B[39;00m ReadonlyConfigError(\u001B[38;5;124m\"\u001B[39m\u001B[38;5;124mCannot set value of read-only config node\u001B[39m\u001B[38;5;124m\"\u001B[39m)\n\u001B[1;32m     38\u001B[0m     \u001B[38;5;28;01mif\u001B[39;00m \u001B[38;5;28misinstance\u001B[39m(value, \u001B[38;5;28mstr\u001B[39m) \u001B[38;5;129;01mand\u001B[39;00m get_value_kind(\n\u001B[1;32m     39\u001B[0m         value, strict_interpolation_validation\u001B[38;5;241m=\u001B[39m\u001B[38;5;28;01mTrue\u001B[39;00m\n\u001B[1;32m     40\u001B[0m     ) \u001B[38;5;129;01min\u001B[39;00m (\n\u001B[1;32m     41\u001B[0m         ValueKind\u001B[38;5;241m.\u001B[39mINTERPOLATION,\n\u001B[1;32m     42\u001B[0m         ValueKind\u001B[38;5;241m.\u001B[39mMANDATORY_MISSING,\n\u001B[1;32m     43\u001B[0m     ):\n\u001B[1;32m     44\u001B[0m         \u001B[38;5;28mself\u001B[39m\u001B[38;5;241m.\u001B[39m_val \u001B[38;5;241m=\u001B[39m value\n",
      "\u001B[0;31mReadonlyConfigError\u001B[0m: Cannot set value of read-only config node"
     ]
    }
   ],
   "execution_count": 7
  },
  {
   "cell_type": "markdown",
   "metadata": {},
   "source": [
    "### 6. Wrapping up\n",
    "\n",
    "Have any additional questions about using the existing data components provided in the `ProteinWorkshop`? [Create a new issue](https://github.com/a-r-j/ProteinWorkshop/issues/new/choose) on our [GitHub repository](https://github.com/a-r-j/ProteinWorkshop). We would be happy to work with you to leverage the full power of the repository!"
   ]
  }
 ],
 "metadata": {
  "kernelspec": {
   "display_name": "Python 3",
   "language": "python",
   "name": "python3"
  },
  "language_info": {
   "codemirror_mode": {
    "name": "ipython",
    "version": 3
   },
   "file_extension": ".py",
   "mimetype": "text/x-python",
   "name": "python",
   "nbconvert_exporter": "python",
   "pygments_lexer": "ipython3",
   "version": "3.9.16"
  },
  "orig_nbformat": 4
 },
 "nbformat": 4,
 "nbformat_minor": 2
}
